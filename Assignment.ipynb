{
 "cells": [
  {
   "cell_type": "markdown",
   "metadata": {},
   "source": [
    "# Problem Statement"
   ]
  },
  {
   "cell_type": "markdown",
   "metadata": {},
   "source": [
    "EazyDiner is a table reservation platform for consumers looking for dining places. Will a new customer who signs up with us, make a booking in the first 7 days of signing up? If the probability is <20% then keep it in a 0 bucket otherwise in a 1 bucket."
   ]
  },
  {
   "cell_type": "markdown",
   "metadata": {},
   "source": [
    "### 1. Importing neccessary libraries"
   ]
  },
  {
   "cell_type": "code",
   "execution_count": 1,
   "metadata": {},
   "outputs": [],
   "source": [
    "import pandas as pd\n",
    "import numpy as np\n",
    "import matplotlib.pyplot as plt\n",
    "import seaborn as sns"
   ]
  },
  {
   "cell_type": "markdown",
   "metadata": {},
   "source": [
    "### 2. Loading the dataset"
   ]
  },
  {
   "cell_type": "code",
   "execution_count": 2,
   "metadata": {},
   "outputs": [],
   "source": [
    "#Booking dataset\n",
    "data_booking=pd.read_excel(\"Sample_BOOKINGS_Dataset_1.xlsx\")  \n",
    "\n",
    "#Customer dataset\n",
    "data_customers=pd.read_excel(\"Sample_CUSTOMER_Dataset_2.xlsx\")"
   ]
  },
  {
   "cell_type": "markdown",
   "metadata": {},
   "source": [
    "### 3. Exploratory Data Analysis"
   ]
  },
  {
   "cell_type": "markdown",
   "metadata": {},
   "source": [
    "Lets explore the dataset."
   ]
  },
  {
   "cell_type": "code",
   "execution_count": 3,
   "metadata": {},
   "outputs": [
    {
     "data": {
      "text/html": [
       "<div>\n",
       "<style scoped>\n",
       "    .dataframe tbody tr th:only-of-type {\n",
       "        vertical-align: middle;\n",
       "    }\n",
       "\n",
       "    .dataframe tbody tr th {\n",
       "        vertical-align: top;\n",
       "    }\n",
       "\n",
       "    .dataframe thead th {\n",
       "        text-align: right;\n",
       "    }\n",
       "</style>\n",
       "<table border=\"1\" class=\"dataframe\">\n",
       "  <thead>\n",
       "    <tr style=\"text-align: right;\">\n",
       "      <th></th>\n",
       "      <th>date</th>\n",
       "      <th>medium</th>\n",
       "      <th>restaurant_name</th>\n",
       "      <th>location</th>\n",
       "      <th>cust_id</th>\n",
       "    </tr>\n",
       "  </thead>\n",
       "  <tbody>\n",
       "    <tr>\n",
       "      <th>0</th>\n",
       "      <td>2020-09-04</td>\n",
       "      <td>web</td>\n",
       "      <td>Spectra</td>\n",
       "      <td>The Leela Ambience, Gurgaon</td>\n",
       "      <td>5015431352112</td>\n",
       "    </tr>\n",
       "    <tr>\n",
       "      <th>1</th>\n",
       "      <td>2020-09-06</td>\n",
       "      <td>google</td>\n",
       "      <td>Barbeque Nation</td>\n",
       "      <td>Park Street Area, Kolkata</td>\n",
       "      <td>5015431352115</td>\n",
       "    </tr>\n",
       "    <tr>\n",
       "      <th>2</th>\n",
       "      <td>2020-09-01</td>\n",
       "      <td>google</td>\n",
       "      <td>Barbeque Nation</td>\n",
       "      <td>Ambience Mall, Gurgaon</td>\n",
       "      <td>5015431352121</td>\n",
       "    </tr>\n",
       "    <tr>\n",
       "      <th>3</th>\n",
       "      <td>2020-09-04</td>\n",
       "      <td>google</td>\n",
       "      <td>Barbeque Pride</td>\n",
       "      <td>Hitech City, Hyderabad</td>\n",
       "      <td>5015431352122</td>\n",
       "    </tr>\n",
       "    <tr>\n",
       "      <th>4</th>\n",
       "      <td>2020-09-06</td>\n",
       "      <td>google</td>\n",
       "      <td>Float Brewery</td>\n",
       "      <td>Kalyan Nagar, North Bengaluru</td>\n",
       "      <td>5015431352123</td>\n",
       "    </tr>\n",
       "  </tbody>\n",
       "</table>\n",
       "</div>"
      ],
      "text/plain": [
       "        date  medium  restaurant_name                       location  \\\n",
       "0 2020-09-04     web          Spectra    The Leela Ambience, Gurgaon   \n",
       "1 2020-09-06  google  Barbeque Nation      Park Street Area, Kolkata   \n",
       "2 2020-09-01  google  Barbeque Nation         Ambience Mall, Gurgaon   \n",
       "3 2020-09-04  google   Barbeque Pride         Hitech City, Hyderabad   \n",
       "4 2020-09-06  google    Float Brewery  Kalyan Nagar, North Bengaluru   \n",
       "\n",
       "         cust_id  \n",
       "0  5015431352112  \n",
       "1  5015431352115  \n",
       "2  5015431352121  \n",
       "3  5015431352122  \n",
       "4  5015431352123  "
      ]
     },
     "execution_count": 3,
     "metadata": {},
     "output_type": "execute_result"
    }
   ],
   "source": [
    "data_booking.head()  #looking at the top 5 records in booking dataset"
   ]
  },
  {
   "cell_type": "code",
   "execution_count": 4,
   "metadata": {},
   "outputs": [
    {
     "data": {
      "text/html": [
       "<div>\n",
       "<style scoped>\n",
       "    .dataframe tbody tr th:only-of-type {\n",
       "        vertical-align: middle;\n",
       "    }\n",
       "\n",
       "    .dataframe tbody tr th {\n",
       "        vertical-align: top;\n",
       "    }\n",
       "\n",
       "    .dataframe thead th {\n",
       "        text-align: right;\n",
       "    }\n",
       "</style>\n",
       "<table border=\"1\" class=\"dataframe\">\n",
       "  <thead>\n",
       "    <tr style=\"text-align: right;\">\n",
       "      <th></th>\n",
       "      <th>cust_id</th>\n",
       "      <th>name</th>\n",
       "      <th>city</th>\n",
       "      <th>gender</th>\n",
       "      <th>AGE</th>\n",
       "      <th>medium</th>\n",
       "      <th>signup_date</th>\n",
       "    </tr>\n",
       "  </thead>\n",
       "  <tbody>\n",
       "    <tr>\n",
       "      <th>0</th>\n",
       "      <td>5015431352112</td>\n",
       "      <td>Juhi Agrawal</td>\n",
       "      <td>Delhi NCR</td>\n",
       "      <td>F</td>\n",
       "      <td>72</td>\n",
       "      <td>web</td>\n",
       "      <td>2020-09-01</td>\n",
       "    </tr>\n",
       "    <tr>\n",
       "      <th>1</th>\n",
       "      <td>5015431352113</td>\n",
       "      <td>Manish</td>\n",
       "      <td>Delhi NCR</td>\n",
       "      <td>M</td>\n",
       "      <td>45</td>\n",
       "      <td>android</td>\n",
       "      <td>2020-09-01</td>\n",
       "    </tr>\n",
       "    <tr>\n",
       "      <th>2</th>\n",
       "      <td>5015431352114</td>\n",
       "      <td>mani</td>\n",
       "      <td>Chennai</td>\n",
       "      <td>M</td>\n",
       "      <td>29</td>\n",
       "      <td>android</td>\n",
       "      <td>2020-09-01</td>\n",
       "    </tr>\n",
       "    <tr>\n",
       "      <th>3</th>\n",
       "      <td>5015431352115</td>\n",
       "      <td>Rija</td>\n",
       "      <td>Kolkata</td>\n",
       "      <td>F</td>\n",
       "      <td>60</td>\n",
       "      <td>google</td>\n",
       "      <td>2020-09-01</td>\n",
       "    </tr>\n",
       "    <tr>\n",
       "      <th>4</th>\n",
       "      <td>5015431352120</td>\n",
       "      <td>Bharath</td>\n",
       "      <td>NaN</td>\n",
       "      <td>M</td>\n",
       "      <td>32</td>\n",
       "      <td>google</td>\n",
       "      <td>2020-09-01</td>\n",
       "    </tr>\n",
       "  </tbody>\n",
       "</table>\n",
       "</div>"
      ],
      "text/plain": [
       "         cust_id          name       city gender  AGE   medium signup_date\n",
       "0  5015431352112  Juhi Agrawal  Delhi NCR      F   72      web  2020-09-01\n",
       "1  5015431352113        Manish  Delhi NCR      M   45  android  2020-09-01\n",
       "2  5015431352114          mani    Chennai      M   29  android  2020-09-01\n",
       "3  5015431352115          Rija    Kolkata      F   60   google  2020-09-01\n",
       "4  5015431352120       Bharath        NaN      M   32   google  2020-09-01"
      ]
     },
     "execution_count": 4,
     "metadata": {},
     "output_type": "execute_result"
    }
   ],
   "source": [
    "data_customers.head()   #looking at the top 5 dataset in the customer dataset"
   ]
  },
  {
   "cell_type": "code",
   "execution_count": 5,
   "metadata": {},
   "outputs": [
    {
     "data": {
      "text/plain": [
       "(61346, 5)"
      ]
     },
     "execution_count": 5,
     "metadata": {},
     "output_type": "execute_result"
    }
   ],
   "source": [
    "data_booking.shape  #Checking rows n columns of the booking dataset"
   ]
  },
  {
   "cell_type": "markdown",
   "metadata": {},
   "source": [
    "We observe that there are 61346 rows (i.e records) and 5 columns (i.e features) in booking dataset."
   ]
  },
  {
   "cell_type": "code",
   "execution_count": 6,
   "metadata": {},
   "outputs": [
    {
     "data": {
      "text/plain": [
       "(98354, 7)"
      ]
     },
     "execution_count": 6,
     "metadata": {},
     "output_type": "execute_result"
    }
   ],
   "source": [
    "data_customers.shape   #Checking rows n columns of the customer dataset"
   ]
  },
  {
   "cell_type": "markdown",
   "metadata": {},
   "source": [
    "In customer dataset, we observe that there are 98354 rows (i.e records) and 7 columns (i.e features)."
   ]
  },
  {
   "cell_type": "markdown",
   "metadata": {},
   "source": [
    "Lets check the data types of each column, number of null values in each column, and memory usage of the entire data using **df.info()**."
   ]
  },
  {
   "cell_type": "code",
   "execution_count": 7,
   "metadata": {},
   "outputs": [
    {
     "name": "stdout",
     "output_type": "stream",
     "text": [
      "<class 'pandas.core.frame.DataFrame'>\n",
      "RangeIndex: 61346 entries, 0 to 61345\n",
      "Data columns (total 5 columns):\n",
      " #   Column           Non-Null Count  Dtype         \n",
      "---  ------           --------------  -----         \n",
      " 0   date             61346 non-null  datetime64[ns]\n",
      " 1   medium           61346 non-null  object        \n",
      " 2   restaurant_name  61346 non-null  object        \n",
      " 3   location         61346 non-null  object        \n",
      " 4   cust_id          61346 non-null  int64         \n",
      "dtypes: datetime64[ns](1), int64(1), object(3)\n",
      "memory usage: 2.3+ MB\n"
     ]
    }
   ],
   "source": [
    "data_booking.info()  ##Checking info about the booking dataset"
   ]
  },
  {
   "cell_type": "markdown",
   "metadata": {},
   "source": [
    "**Observations:-**\n",
    "\n",
    "- Dataset has datetime, object and integer values.\n",
    "- There are no missing values.\n",
    "    "
   ]
  },
  {
   "cell_type": "code",
   "execution_count": 8,
   "metadata": {},
   "outputs": [
    {
     "data": {
      "text/plain": [
       "date               0\n",
       "medium             0\n",
       "restaurant_name    0\n",
       "location           0\n",
       "cust_id            0\n",
       "dtype: int64"
      ]
     },
     "execution_count": 8,
     "metadata": {},
     "output_type": "execute_result"
    }
   ],
   "source": [
    "##Checking for the null values explicitly in booking dataset\n",
    "data_booking.isnull().sum()"
   ]
  },
  {
   "cell_type": "markdown",
   "metadata": {},
   "source": [
    "We can observe that there are no null values in booking dataset."
   ]
  },
  {
   "cell_type": "code",
   "execution_count": 9,
   "metadata": {},
   "outputs": [
    {
     "data": {
      "text/html": [
       "<div>\n",
       "<style scoped>\n",
       "    .dataframe tbody tr th:only-of-type {\n",
       "        vertical-align: middle;\n",
       "    }\n",
       "\n",
       "    .dataframe tbody tr th {\n",
       "        vertical-align: top;\n",
       "    }\n",
       "\n",
       "    .dataframe thead th {\n",
       "        text-align: right;\n",
       "    }\n",
       "</style>\n",
       "<table border=\"1\" class=\"dataframe\">\n",
       "  <thead>\n",
       "    <tr style=\"text-align: right;\">\n",
       "      <th></th>\n",
       "      <th>cust_id</th>\n",
       "    </tr>\n",
       "  </thead>\n",
       "  <tbody>\n",
       "    <tr>\n",
       "      <th>count</th>\n",
       "      <td>6.134600e+04</td>\n",
       "    </tr>\n",
       "    <tr>\n",
       "      <th>mean</th>\n",
       "      <td>5.015432e+12</td>\n",
       "    </tr>\n",
       "    <tr>\n",
       "      <th>std</th>\n",
       "      <td>6.362351e+05</td>\n",
       "    </tr>\n",
       "    <tr>\n",
       "      <th>min</th>\n",
       "      <td>5.015431e+12</td>\n",
       "    </tr>\n",
       "    <tr>\n",
       "      <th>25%</th>\n",
       "      <td>5.015432e+12</td>\n",
       "    </tr>\n",
       "    <tr>\n",
       "      <th>50%</th>\n",
       "      <td>5.015432e+12</td>\n",
       "    </tr>\n",
       "    <tr>\n",
       "      <th>75%</th>\n",
       "      <td>5.015433e+12</td>\n",
       "    </tr>\n",
       "    <tr>\n",
       "      <th>max</th>\n",
       "      <td>5.015433e+12</td>\n",
       "    </tr>\n",
       "  </tbody>\n",
       "</table>\n",
       "</div>"
      ],
      "text/plain": [
       "            cust_id\n",
       "count  6.134600e+04\n",
       "mean   5.015432e+12\n",
       "std    6.362351e+05\n",
       "min    5.015431e+12\n",
       "25%    5.015432e+12\n",
       "50%    5.015432e+12\n",
       "75%    5.015433e+12\n",
       "max    5.015433e+12"
      ]
     },
     "execution_count": 9,
     "metadata": {},
     "output_type": "execute_result"
    }
   ],
   "source": [
    "#Statistical Analysis of customer dataset\n",
    "data_booking.describe()"
   ]
  },
  {
   "cell_type": "markdown",
   "metadata": {},
   "source": [
    "**cust_id** is unique for every customer."
   ]
  },
  {
   "cell_type": "markdown",
   "metadata": {},
   "source": [
    "**Checking for the duplicates.**"
   ]
  },
  {
   "cell_type": "code",
   "execution_count": 10,
   "metadata": {},
   "outputs": [
    {
     "data": {
      "text/plain": [
       "(0, 5)"
      ]
     },
     "execution_count": 10,
     "metadata": {},
     "output_type": "execute_result"
    }
   ],
   "source": [
    "duplicate_booking=data_booking[data_booking.duplicated()]\n",
    "duplicate_booking.shape"
   ]
  },
  {
   "cell_type": "markdown",
   "metadata": {},
   "source": [
    "There are no duplicates, thus we are good to go."
   ]
  },
  {
   "cell_type": "code",
   "execution_count": 11,
   "metadata": {},
   "outputs": [
    {
     "name": "stdout",
     "output_type": "stream",
     "text": [
      "<class 'pandas.core.frame.DataFrame'>\n",
      "RangeIndex: 98354 entries, 0 to 98353\n",
      "Data columns (total 7 columns):\n",
      " #   Column       Non-Null Count  Dtype         \n",
      "---  ------       --------------  -----         \n",
      " 0   cust_id      98354 non-null  int64         \n",
      " 1   name         92756 non-null  object        \n",
      " 2   city         80621 non-null  object        \n",
      " 3   gender       4700 non-null   object        \n",
      " 4   AGE          98354 non-null  int64         \n",
      " 5   medium       98354 non-null  object        \n",
      " 6   signup_date  98354 non-null  datetime64[ns]\n",
      "dtypes: datetime64[ns](1), int64(2), object(4)\n",
      "memory usage: 5.3+ MB\n"
     ]
    }
   ],
   "source": [
    "data_customers.info()  ##Checking info about the booking dataset"
   ]
  },
  {
   "cell_type": "markdown",
   "metadata": {},
   "source": [
    "**Observation:-**\n",
    "\n",
    "- The data has integer, object and datetime values.\n",
    "- Missing values are present in some columns."
   ]
  },
  {
   "cell_type": "code",
   "execution_count": 12,
   "metadata": {},
   "outputs": [
    {
     "data": {
      "text/plain": [
       "cust_id            0\n",
       "name            5598\n",
       "city           17733\n",
       "gender         93654\n",
       "AGE                0\n",
       "medium             0\n",
       "signup_date        0\n",
       "dtype: int64"
      ]
     },
     "execution_count": 12,
     "metadata": {},
     "output_type": "execute_result"
    }
   ],
   "source": [
    "##Checking for the null values explicitly in customer dataset\n",
    "data_customers.isnull().sum()"
   ]
  },
  {
   "cell_type": "markdown",
   "metadata": {},
   "source": [
    "Here, we can observe that in columns **name**, **city**, **gender** there are some null values, thus we have to do some cleaning of the customer dataset."
   ]
  },
  {
   "cell_type": "code",
   "execution_count": 13,
   "metadata": {},
   "outputs": [
    {
     "name": "stdout",
     "output_type": "stream",
     "text": [
      "name 0.0569  % missing values\n",
      "city 0.1803  % missing values\n",
      "gender 0.9522  % missing values\n"
     ]
    }
   ],
   "source": [
    "#Lets Check the percentage of missing values of NaN values in each feature\n",
    "\n",
    "features_with_na=[features for features in data_customers.columns if data_customers[features].isnull().sum()>1]\n",
    "for feature in features_with_na:\n",
    "    print(feature, np.round(data_customers[feature].isnull().mean(), 4),  ' % missing values')"
   ]
  },
  {
   "cell_type": "markdown",
   "metadata": {},
   "source": [
    "Plotting the graph for the missing values in customer dataset."
   ]
  },
  {
   "cell_type": "code",
   "execution_count": 14,
   "metadata": {},
   "outputs": [
    {
     "data": {
      "text/plain": [
       "<matplotlib.axes._subplots.AxesSubplot at 0x1997478a148>"
      ]
     },
     "execution_count": 14,
     "metadata": {},
     "output_type": "execute_result"
    },
    {
     "data": {
      "image/png": "[encoded data removed]",
      "text/plain": [
       "<Figure size 432x288 with 1 Axes>"
      ]
     },
     "metadata": {
      "needs_background": "light"
     },
     "output_type": "display_data"
    }
   ],
   "source": [
    "sns.heatmap(data_customers.isnull(),yticklabels=False,cbar=False,cmap='viridis')"
   ]
  },
  {
   "cell_type": "markdown",
   "metadata": {},
   "source": [
    "We can see that in gender column there are almost 95% values which are missing."
   ]
  },
  {
   "cell_type": "markdown",
   "metadata": {},
   "source": [
    "**Checking for duplicates**"
   ]
  },
  {
   "cell_type": "code",
   "execution_count": 15,
   "metadata": {},
   "outputs": [
    {
     "data": {
      "text/plain": [
       "(0, 7)"
      ]
     },
     "execution_count": 15,
     "metadata": {},
     "output_type": "execute_result"
    }
   ],
   "source": [
    "duplicate_customers = data_customers[data_customers.duplicated()]\n",
    "duplicate_customers.shape"
   ]
  },
  {
   "cell_type": "markdown",
   "metadata": {},
   "source": [
    "No duplicates are found in customer dataset."
   ]
  },
  {
   "cell_type": "code",
   "execution_count": 16,
   "metadata": {},
   "outputs": [
    {
     "data": {
      "text/html": [
       "<div>\n",
       "<style scoped>\n",
       "    .dataframe tbody tr th:only-of-type {\n",
       "        vertical-align: middle;\n",
       "    }\n",
       "\n",
       "    .dataframe tbody tr th {\n",
       "        vertical-align: top;\n",
       "    }\n",
       "\n",
       "    .dataframe thead th {\n",
       "        text-align: right;\n",
       "    }\n",
       "</style>\n",
       "<table border=\"1\" class=\"dataframe\">\n",
       "  <thead>\n",
       "    <tr style=\"text-align: right;\">\n",
       "      <th></th>\n",
       "      <th>cust_id</th>\n",
       "      <th>AGE</th>\n",
       "    </tr>\n",
       "  </thead>\n",
       "  <tbody>\n",
       "    <tr>\n",
       "      <th>count</th>\n",
       "      <td>9.835400e+04</td>\n",
       "      <td>98354.000000</td>\n",
       "    </tr>\n",
       "    <tr>\n",
       "      <th>mean</th>\n",
       "      <td>5.015432e+12</td>\n",
       "      <td>44.000081</td>\n",
       "    </tr>\n",
       "    <tr>\n",
       "      <th>std</th>\n",
       "      <td>6.320328e+05</td>\n",
       "      <td>19.809041</td>\n",
       "    </tr>\n",
       "    <tr>\n",
       "      <th>min</th>\n",
       "      <td>5.015431e+12</td>\n",
       "      <td>14.000000</td>\n",
       "    </tr>\n",
       "    <tr>\n",
       "      <th>25%</th>\n",
       "      <td>5.015432e+12</td>\n",
       "      <td>27.000000</td>\n",
       "    </tr>\n",
       "    <tr>\n",
       "      <th>50%</th>\n",
       "      <td>5.015432e+12</td>\n",
       "      <td>39.000000</td>\n",
       "    </tr>\n",
       "    <tr>\n",
       "      <th>75%</th>\n",
       "      <td>5.015433e+12</td>\n",
       "      <td>60.000000</td>\n",
       "    </tr>\n",
       "    <tr>\n",
       "      <th>max</th>\n",
       "      <td>5.015433e+12</td>\n",
       "      <td>84.000000</td>\n",
       "    </tr>\n",
       "  </tbody>\n",
       "</table>\n",
       "</div>"
      ],
      "text/plain": [
       "            cust_id           AGE\n",
       "count  9.835400e+04  98354.000000\n",
       "mean   5.015432e+12     44.000081\n",
       "std    6.320328e+05     19.809041\n",
       "min    5.015431e+12     14.000000\n",
       "25%    5.015432e+12     27.000000\n",
       "50%    5.015432e+12     39.000000\n",
       "75%    5.015433e+12     60.000000\n",
       "max    5.015433e+12     84.000000"
      ]
     },
     "execution_count": 16,
     "metadata": {},
     "output_type": "execute_result"
    }
   ],
   "source": [
    "#Statistical Analysis of the customer dataset\n",
    "data_customers.describe()"
   ]
  },
  {
   "cell_type": "markdown",
   "metadata": {},
   "source": [
    "**cust_id** is unique for the customer."
   ]
  },
  {
   "cell_type": "markdown",
   "metadata": {},
   "source": [
    "Lets merge the two datasets on column **cust_id**. We will use keys from right dataframe i.e data_customers otherwise we will loose around 20k precious data."
   ]
  },
  {
   "cell_type": "code",
   "execution_count": 17,
   "metadata": {},
   "outputs": [],
   "source": [
    "data=pd.merge(data_booking,data_customers,on='cust_id',how='right')"
   ]
  },
  {
   "cell_type": "code",
   "execution_count": 18,
   "metadata": {},
   "outputs": [
    {
     "data": {
      "text/html": [
       "<div>\n",
       "<style scoped>\n",
       "    .dataframe tbody tr th:only-of-type {\n",
       "        vertical-align: middle;\n",
       "    }\n",
       "\n",
       "    .dataframe tbody tr th {\n",
       "        vertical-align: top;\n",
       "    }\n",
       "\n",
       "    .dataframe thead th {\n",
       "        text-align: right;\n",
       "    }\n",
       "</style>\n",
       "<table border=\"1\" class=\"dataframe\">\n",
       "  <thead>\n",
       "    <tr style=\"text-align: right;\">\n",
       "      <th></th>\n",
       "      <th>date</th>\n",
       "      <th>medium_x</th>\n",
       "      <th>restaurant_name</th>\n",
       "      <th>location</th>\n",
       "      <th>cust_id</th>\n",
       "      <th>name</th>\n",
       "      <th>city</th>\n",
       "      <th>gender</th>\n",
       "      <th>AGE</th>\n",
       "      <th>medium_y</th>\n",
       "      <th>signup_date</th>\n",
       "    </tr>\n",
       "  </thead>\n",
       "  <tbody>\n",
       "    <tr>\n",
       "      <th>0</th>\n",
       "      <td>2020-09-04</td>\n",
       "      <td>web</td>\n",
       "      <td>Spectra</td>\n",
       "      <td>The Leela Ambience, Gurgaon</td>\n",
       "      <td>5015431352112</td>\n",
       "      <td>Juhi Agrawal</td>\n",
       "      <td>Delhi NCR</td>\n",
       "      <td>F</td>\n",
       "      <td>72</td>\n",
       "      <td>web</td>\n",
       "      <td>2020-09-01</td>\n",
       "    </tr>\n",
       "    <tr>\n",
       "      <th>1</th>\n",
       "      <td>2020-09-06</td>\n",
       "      <td>google</td>\n",
       "      <td>Barbeque Nation</td>\n",
       "      <td>Park Street Area, Kolkata</td>\n",
       "      <td>5015431352115</td>\n",
       "      <td>Rija</td>\n",
       "      <td>Kolkata</td>\n",
       "      <td>F</td>\n",
       "      <td>60</td>\n",
       "      <td>google</td>\n",
       "      <td>2020-09-01</td>\n",
       "    </tr>\n",
       "    <tr>\n",
       "      <th>2</th>\n",
       "      <td>2020-09-01</td>\n",
       "      <td>google</td>\n",
       "      <td>Barbeque Nation</td>\n",
       "      <td>Ambience Mall, Gurgaon</td>\n",
       "      <td>5015431352121</td>\n",
       "      <td>Aparna</td>\n",
       "      <td>Delhi NCR</td>\n",
       "      <td>F</td>\n",
       "      <td>27</td>\n",
       "      <td>google</td>\n",
       "      <td>2020-09-01</td>\n",
       "    </tr>\n",
       "    <tr>\n",
       "      <th>3</th>\n",
       "      <td>2020-09-04</td>\n",
       "      <td>google</td>\n",
       "      <td>Barbeque Pride</td>\n",
       "      <td>Hitech City, Hyderabad</td>\n",
       "      <td>5015431352122</td>\n",
       "      <td>Pavan Sai Chandra</td>\n",
       "      <td>Hyderabad</td>\n",
       "      <td>M</td>\n",
       "      <td>69</td>\n",
       "      <td>google</td>\n",
       "      <td>2020-09-01</td>\n",
       "    </tr>\n",
       "    <tr>\n",
       "      <th>4</th>\n",
       "      <td>2020-09-06</td>\n",
       "      <td>google</td>\n",
       "      <td>Float Brewery</td>\n",
       "      <td>Kalyan Nagar, North Bengaluru</td>\n",
       "      <td>5015431352123</td>\n",
       "      <td>Vaseem</td>\n",
       "      <td>Bengaluru</td>\n",
       "      <td>M</td>\n",
       "      <td>38</td>\n",
       "      <td>google</td>\n",
       "      <td>2020-09-01</td>\n",
       "    </tr>\n",
       "  </tbody>\n",
       "</table>\n",
       "</div>"
      ],
      "text/plain": [
       "        date medium_x  restaurant_name                       location  \\\n",
       "0 2020-09-04      web          Spectra    The Leela Ambience, Gurgaon   \n",
       "1 2020-09-06   google  Barbeque Nation      Park Street Area, Kolkata   \n",
       "2 2020-09-01   google  Barbeque Nation         Ambience Mall, Gurgaon   \n",
       "3 2020-09-04   google   Barbeque Pride         Hitech City, Hyderabad   \n",
       "4 2020-09-06   google    Float Brewery  Kalyan Nagar, North Bengaluru   \n",
       "\n",
       "         cust_id               name       city gender  AGE medium_y  \\\n",
       "0  5015431352112       Juhi Agrawal  Delhi NCR      F   72      web   \n",
       "1  5015431352115               Rija    Kolkata      F   60   google   \n",
       "2  5015431352121             Aparna  Delhi NCR      F   27   google   \n",
       "3  5015431352122  Pavan Sai Chandra  Hyderabad      M   69   google   \n",
       "4  5015431352123             Vaseem  Bengaluru      M   38   google   \n",
       "\n",
       "  signup_date  \n",
       "0  2020-09-01  \n",
       "1  2020-09-01  \n",
       "2  2020-09-01  \n",
       "3  2020-09-01  \n",
       "4  2020-09-01  "
      ]
     },
     "execution_count": 18,
     "metadata": {},
     "output_type": "execute_result"
    }
   ],
   "source": [
    "data.head() #Looking at top 5 records of merged dataset"
   ]
  },
  {
   "cell_type": "code",
   "execution_count": 19,
   "metadata": {},
   "outputs": [
    {
     "data": {
      "text/plain": [
       "(98354, 11)"
      ]
     },
     "execution_count": 19,
     "metadata": {},
     "output_type": "execute_result"
    }
   ],
   "source": [
    "data.shape  #Checking the shape of the merged dataset"
   ]
  },
  {
   "cell_type": "markdown",
   "metadata": {},
   "source": [
    "There are 98354 rows (i.e records) and 11 columns(i.e features) in the merged dataset."
   ]
  },
  {
   "cell_type": "code",
   "execution_count": 20,
   "metadata": {},
   "outputs": [
    {
     "data": {
      "text/html": [
       "<div>\n",
       "<style scoped>\n",
       "    .dataframe tbody tr th:only-of-type {\n",
       "        vertical-align: middle;\n",
       "    }\n",
       "\n",
       "    .dataframe tbody tr th {\n",
       "        vertical-align: top;\n",
       "    }\n",
       "\n",
       "    .dataframe thead th {\n",
       "        text-align: right;\n",
       "    }\n",
       "</style>\n",
       "<table border=\"1\" class=\"dataframe\">\n",
       "  <thead>\n",
       "    <tr style=\"text-align: right;\">\n",
       "      <th></th>\n",
       "      <th>date</th>\n",
       "      <th>medium_x</th>\n",
       "      <th>restaurant_name</th>\n",
       "      <th>location</th>\n",
       "      <th>cust_id</th>\n",
       "      <th>name</th>\n",
       "      <th>city</th>\n",
       "      <th>gender</th>\n",
       "      <th>AGE</th>\n",
       "      <th>medium_y</th>\n",
       "      <th>signup_date</th>\n",
       "    </tr>\n",
       "  </thead>\n",
       "  <tbody>\n",
       "  </tbody>\n",
       "</table>\n",
       "</div>"
      ],
      "text/plain": [
       "Empty DataFrame\n",
       "Columns: [date, medium_x, restaurant_name, location, cust_id, name, city, gender, AGE, medium_y, signup_date]\n",
       "Index: []"
      ]
     },
     "execution_count": 20,
     "metadata": {},
     "output_type": "execute_result"
    }
   ],
   "source": [
    "## Checking for duplicate values if any\n",
    "data[data.duplicated(subset=['cust_id'],keep='first')]"
   ]
  },
  {
   "cell_type": "markdown",
   "metadata": {},
   "source": [
    "We can see that there are no duplicated values in the merged dataset, thus we can proceed further."
   ]
  },
  {
   "cell_type": "code",
   "execution_count": 21,
   "metadata": {},
   "outputs": [
    {
     "name": "stdout",
     "output_type": "stream",
     "text": [
      "<class 'pandas.core.frame.DataFrame'>\n",
      "Int64Index: 98354 entries, 0 to 98353\n",
      "Data columns (total 11 columns):\n",
      " #   Column           Non-Null Count  Dtype         \n",
      "---  ------           --------------  -----         \n",
      " 0   date             61346 non-null  datetime64[ns]\n",
      " 1   medium_x         61346 non-null  object        \n",
      " 2   restaurant_name  61346 non-null  object        \n",
      " 3   location         61346 non-null  object        \n",
      " 4   cust_id          98354 non-null  int64         \n",
      " 5   name             92756 non-null  object        \n",
      " 6   city             80621 non-null  object        \n",
      " 7   gender           4700 non-null   object        \n",
      " 8   AGE              98354 non-null  int64         \n",
      " 9   medium_y         98354 non-null  object        \n",
      " 10  signup_date      98354 non-null  datetime64[ns]\n",
      "dtypes: datetime64[ns](2), int64(2), object(7)\n",
      "memory usage: 9.0+ MB\n"
     ]
    }
   ],
   "source": [
    "data.info()  #Checking info for merged dataset"
   ]
  },
  {
   "cell_type": "code",
   "execution_count": 22,
   "metadata": {},
   "outputs": [
    {
     "data": {
      "text/plain": [
       "date               37008\n",
       "medium_x           37008\n",
       "restaurant_name    37008\n",
       "location           37008\n",
       "cust_id                0\n",
       "name                5598\n",
       "city               17733\n",
       "gender             93654\n",
       "AGE                    0\n",
       "medium_y               0\n",
       "signup_date            0\n",
       "dtype: int64"
      ]
     },
     "execution_count": 22,
     "metadata": {},
     "output_type": "execute_result"
    }
   ],
   "source": [
    "#Checking for the null values explicitly\n",
    "data.isnull().sum()"
   ]
  },
  {
   "cell_type": "markdown",
   "metadata": {},
   "source": [
    "**Observation :-**\n",
    "\n",
    "- Number of missing values in the **'gender'** column are very high, so we can directly drop them.\n",
    "- For columns- **'date'**, **'medium_x'**, **'restaurant_name'**, and **'location'** missing value count is same, thus it can be infered that those customers have not done booking after signing up, hence these customers will go under bucket 0.\n",
    "- Apart from those columns **'name'** and **'city'** also have some null values, we have to do some feature engineering for replacing the null values.\n",
    "    "
   ]
  },
  {
   "cell_type": "markdown",
   "metadata": {},
   "source": [
    "Lets gain some more insights from the dataset."
   ]
  },
  {
   "cell_type": "markdown",
   "metadata": {},
   "source": [
    "**Numerical Variables**"
   ]
  },
  {
   "cell_type": "code",
   "execution_count": 23,
   "metadata": {},
   "outputs": [
    {
     "name": "stdout",
     "output_type": "stream",
     "text": [
      "Number of numerical variables:  2\n"
     ]
    },
    {
     "data": {
      "text/html": [
       "<div>\n",
       "<style scoped>\n",
       "    .dataframe tbody tr th:only-of-type {\n",
       "        vertical-align: middle;\n",
       "    }\n",
       "\n",
       "    .dataframe tbody tr th {\n",
       "        vertical-align: top;\n",
       "    }\n",
       "\n",
       "    .dataframe thead th {\n",
       "        text-align: right;\n",
       "    }\n",
       "</style>\n",
       "<table border=\"1\" class=\"dataframe\">\n",
       "  <thead>\n",
       "    <tr style=\"text-align: right;\">\n",
       "      <th></th>\n",
       "      <th>cust_id</th>\n",
       "      <th>AGE</th>\n",
       "    </tr>\n",
       "  </thead>\n",
       "  <tbody>\n",
       "    <tr>\n",
       "      <th>0</th>\n",
       "      <td>5015431352112</td>\n",
       "      <td>72</td>\n",
       "    </tr>\n",
       "    <tr>\n",
       "      <th>1</th>\n",
       "      <td>5015431352115</td>\n",
       "      <td>60</td>\n",
       "    </tr>\n",
       "    <tr>\n",
       "      <th>2</th>\n",
       "      <td>5015431352121</td>\n",
       "      <td>27</td>\n",
       "    </tr>\n",
       "    <tr>\n",
       "      <th>3</th>\n",
       "      <td>5015431352122</td>\n",
       "      <td>69</td>\n",
       "    </tr>\n",
       "    <tr>\n",
       "      <th>4</th>\n",
       "      <td>5015431352123</td>\n",
       "      <td>38</td>\n",
       "    </tr>\n",
       "  </tbody>\n",
       "</table>\n",
       "</div>"
      ],
      "text/plain": [
       "         cust_id  AGE\n",
       "0  5015431352112   72\n",
       "1  5015431352115   60\n",
       "2  5015431352121   27\n",
       "3  5015431352122   69\n",
       "4  5015431352123   38"
      ]
     },
     "execution_count": 23,
     "metadata": {},
     "output_type": "execute_result"
    }
   ],
   "source": [
    "#Checking for numerical variables in the merged dataset\n",
    "numerical_features = [feature for feature in data.columns if data[feature].dtypes != 'O' and feature not in ['date','signup_date']]\n",
    "\n",
    "print('Number of numerical variables: ', len(numerical_features))\n",
    "\n",
    "# visualise the numerical variables\n",
    "data[numerical_features].head()"
   ]
  },
  {
   "cell_type": "markdown",
   "metadata": {},
   "source": [
    "**cust_id** is categorical feature which is displayed as integer features.      \n",
    "Lets check its unique value."
   ]
  },
  {
   "cell_type": "code",
   "execution_count": 24,
   "metadata": {},
   "outputs": [
    {
     "name": "stdout",
     "output_type": "stream",
     "text": [
      "98354\n"
     ]
    }
   ],
   "source": [
    "print(len(data['cust_id'].unique()))"
   ]
  },
  {
   "cell_type": "markdown",
   "metadata": {},
   "source": [
    "It indicates that all the values in **cust_id** is unique as the count is same as that of number of records."
   ]
  },
  {
   "cell_type": "markdown",
   "metadata": {},
   "source": [
    "**Categorical Variables**"
   ]
  },
  {
   "cell_type": "code",
   "execution_count": 25,
   "metadata": {},
   "outputs": [
    {
     "data": {
      "text/plain": [
       "['medium_x',\n",
       " 'restaurant_name',\n",
       " 'location',\n",
       " 'name',\n",
       " 'city',\n",
       " 'gender',\n",
       " 'medium_y']"
      ]
     },
     "execution_count": 25,
     "metadata": {},
     "output_type": "execute_result"
    }
   ],
   "source": [
    "categorical_features=[feature for feature in data.columns if data[feature].dtypes=='O']\n",
    "categorical_features  "
   ]
  },
  {
   "cell_type": "markdown",
   "metadata": {},
   "source": [
    "Lets check for the unique values in all these columns."
   ]
  },
  {
   "cell_type": "code",
   "execution_count": 26,
   "metadata": {},
   "outputs": [
    {
     "name": "stdout",
     "output_type": "stream",
     "text": [
      "medium_x : 7\n",
      "restaurant_name : 2314\n",
      "location : 1232\n",
      "name : 44874\n",
      "city : 168\n",
      "gender : 5\n",
      "medium_y : 6\n"
     ]
    }
   ],
   "source": [
    "for i in categorical_features:\n",
    "    print(\"{} : {}\".format(i,len(data[i].unique())))"
   ]
  },
  {
   "cell_type": "markdown",
   "metadata": {},
   "source": [
    "Lets plot some graphs to understand the data even more."
   ]
  },
  {
   "cell_type": "markdown",
   "metadata": {},
   "source": [
    "**(i) medium_x**"
   ]
  },
  {
   "cell_type": "code",
   "execution_count": 27,
   "metadata": {},
   "outputs": [
    {
     "data": {
      "text/plain": [
       "google         51683\n",
       "android         3736\n",
       "web             3134\n",
       "concierge       1462\n",
       "ios             1281\n",
       "api_partner       50\n",
       "Name: medium_x, dtype: int64"
      ]
     },
     "execution_count": 27,
     "metadata": {},
     "output_type": "execute_result"
    }
   ],
   "source": [
    "data['medium_x'].value_counts()"
   ]
  },
  {
   "cell_type": "code",
   "execution_count": 28,
   "metadata": {},
   "outputs": [
    {
     "data": {
      "text/plain": [
       "<matplotlib.axes._subplots.AxesSubplot at 0x199739c6cc8>"
      ]
     },
     "execution_count": 28,
     "metadata": {},
     "output_type": "execute_result"
    },
    {
     "data": {
      "image/png": "[encoded data removed]",
      "text/plain": [
       "<Figure size 432x288 with 1 Axes>"
      ]
     },
     "metadata": {
      "needs_background": "light"
     },
     "output_type": "display_data"
    }
   ],
   "source": [
    "sns.countplot('medium_x',data=data)"
   ]
  },
  {
   "cell_type": "markdown",
   "metadata": {},
   "source": [
    "**(ii) gender**"
   ]
  },
  {
   "cell_type": "code",
   "execution_count": 29,
   "metadata": {},
   "outputs": [
    {
     "data": {
      "text/plain": [
       "<matplotlib.axes._subplots.AxesSubplot at 0x199737194c8>"
      ]
     },
     "execution_count": 29,
     "metadata": {},
     "output_type": "execute_result"
    },
    {
     "data": {
      "image/png": "[encoded data removed]",
      "text/plain": [
       "<Figure size 432x288 with 1 Axes>"
      ]
     },
     "metadata": {
      "needs_background": "light"
     },
     "output_type": "display_data"
    }
   ],
   "source": [
    "sns.countplot('gender',data=data)"
   ]
  },
  {
   "cell_type": "markdown",
   "metadata": {},
   "source": [
    "This column has actually only two categories but the naming is different."
   ]
  },
  {
   "cell_type": "markdown",
   "metadata": {},
   "source": [
    "**(iii) medium_y**"
   ]
  },
  {
   "cell_type": "code",
   "execution_count": 30,
   "metadata": {},
   "outputs": [
    {
     "data": {
      "text/plain": [
       "<matplotlib.axes._subplots.AxesSubplot at 0x19972d1dd08>"
      ]
     },
     "execution_count": 30,
     "metadata": {},
     "output_type": "execute_result"
    },
    {
     "data": {
      "image/png": "[encoded data removed]",
      "text/plain": [
       "<Figure size 432x288 with 1 Axes>"
      ]
     },
     "metadata": {
      "needs_background": "light"
     },
     "output_type": "display_data"
    }
   ],
   "source": [
    "sns.countplot('medium_y',data=data)"
   ]
  },
  {
   "cell_type": "markdown",
   "metadata": {},
   "source": [
    "We can observe that there are same categories in the medium_x (i.e booking medium) and medium_y(signup medium)."
   ]
  },
  {
   "cell_type": "markdown",
   "metadata": {},
   "source": [
    "Lets create another column, say, 'days' giving the number of days a customer taken for booking the diner after signing up."
   ]
  },
  {
   "cell_type": "code",
   "execution_count": 31,
   "metadata": {},
   "outputs": [],
   "source": [
    "from datetime import date\n",
    "data['days']=(data['date']-data['signup_date']).astype('timedelta64[D]')"
   ]
  },
  {
   "cell_type": "code",
   "execution_count": 32,
   "metadata": {
    "scrolled": true
   },
   "outputs": [
    {
     "data": {
      "text/html": [
       "<div>\n",
       "<style scoped>\n",
       "    .dataframe tbody tr th:only-of-type {\n",
       "        vertical-align: middle;\n",
       "    }\n",
       "\n",
       "    .dataframe tbody tr th {\n",
       "        vertical-align: top;\n",
       "    }\n",
       "\n",
       "    .dataframe thead th {\n",
       "        text-align: right;\n",
       "    }\n",
       "</style>\n",
       "<table border=\"1\" class=\"dataframe\">\n",
       "  <thead>\n",
       "    <tr style=\"text-align: right;\">\n",
       "      <th></th>\n",
       "      <th>date</th>\n",
       "      <th>medium_x</th>\n",
       "      <th>restaurant_name</th>\n",
       "      <th>location</th>\n",
       "      <th>cust_id</th>\n",
       "      <th>name</th>\n",
       "      <th>city</th>\n",
       "      <th>gender</th>\n",
       "      <th>AGE</th>\n",
       "      <th>medium_y</th>\n",
       "      <th>signup_date</th>\n",
       "      <th>days</th>\n",
       "    </tr>\n",
       "  </thead>\n",
       "  <tbody>\n",
       "    <tr>\n",
       "      <th>0</th>\n",
       "      <td>2020-09-04</td>\n",
       "      <td>web</td>\n",
       "      <td>Spectra</td>\n",
       "      <td>The Leela Ambience, Gurgaon</td>\n",
       "      <td>5015431352112</td>\n",
       "      <td>Juhi Agrawal</td>\n",
       "      <td>Delhi NCR</td>\n",
       "      <td>F</td>\n",
       "      <td>72</td>\n",
       "      <td>web</td>\n",
       "      <td>2020-09-01</td>\n",
       "      <td>3.0</td>\n",
       "    </tr>\n",
       "    <tr>\n",
       "      <th>1</th>\n",
       "      <td>2020-09-06</td>\n",
       "      <td>google</td>\n",
       "      <td>Barbeque Nation</td>\n",
       "      <td>Park Street Area, Kolkata</td>\n",
       "      <td>5015431352115</td>\n",
       "      <td>Rija</td>\n",
       "      <td>Kolkata</td>\n",
       "      <td>F</td>\n",
       "      <td>60</td>\n",
       "      <td>google</td>\n",
       "      <td>2020-09-01</td>\n",
       "      <td>5.0</td>\n",
       "    </tr>\n",
       "    <tr>\n",
       "      <th>2</th>\n",
       "      <td>2020-09-01</td>\n",
       "      <td>google</td>\n",
       "      <td>Barbeque Nation</td>\n",
       "      <td>Ambience Mall, Gurgaon</td>\n",
       "      <td>5015431352121</td>\n",
       "      <td>Aparna</td>\n",
       "      <td>Delhi NCR</td>\n",
       "      <td>F</td>\n",
       "      <td>27</td>\n",
       "      <td>google</td>\n",
       "      <td>2020-09-01</td>\n",
       "      <td>0.0</td>\n",
       "    </tr>\n",
       "    <tr>\n",
       "      <th>3</th>\n",
       "      <td>2020-09-04</td>\n",
       "      <td>google</td>\n",
       "      <td>Barbeque Pride</td>\n",
       "      <td>Hitech City, Hyderabad</td>\n",
       "      <td>5015431352122</td>\n",
       "      <td>Pavan Sai Chandra</td>\n",
       "      <td>Hyderabad</td>\n",
       "      <td>M</td>\n",
       "      <td>69</td>\n",
       "      <td>google</td>\n",
       "      <td>2020-09-01</td>\n",
       "      <td>3.0</td>\n",
       "    </tr>\n",
       "    <tr>\n",
       "      <th>4</th>\n",
       "      <td>2020-09-06</td>\n",
       "      <td>google</td>\n",
       "      <td>Float Brewery</td>\n",
       "      <td>Kalyan Nagar, North Bengaluru</td>\n",
       "      <td>5015431352123</td>\n",
       "      <td>Vaseem</td>\n",
       "      <td>Bengaluru</td>\n",
       "      <td>M</td>\n",
       "      <td>38</td>\n",
       "      <td>google</td>\n",
       "      <td>2020-09-01</td>\n",
       "      <td>5.0</td>\n",
       "    </tr>\n",
       "  </tbody>\n",
       "</table>\n",
       "</div>"
      ],
      "text/plain": [
       "        date medium_x  restaurant_name                       location  \\\n",
       "0 2020-09-04      web          Spectra    The Leela Ambience, Gurgaon   \n",
       "1 2020-09-06   google  Barbeque Nation      Park Street Area, Kolkata   \n",
       "2 2020-09-01   google  Barbeque Nation         Ambience Mall, Gurgaon   \n",
       "3 2020-09-04   google   Barbeque Pride         Hitech City, Hyderabad   \n",
       "4 2020-09-06   google    Float Brewery  Kalyan Nagar, North Bengaluru   \n",
       "\n",
       "         cust_id               name       city gender  AGE medium_y  \\\n",
       "0  5015431352112       Juhi Agrawal  Delhi NCR      F   72      web   \n",
       "1  5015431352115               Rija    Kolkata      F   60   google   \n",
       "2  5015431352121             Aparna  Delhi NCR      F   27   google   \n",
       "3  5015431352122  Pavan Sai Chandra  Hyderabad      M   69   google   \n",
       "4  5015431352123             Vaseem  Bengaluru      M   38   google   \n",
       "\n",
       "  signup_date  days  \n",
       "0  2020-09-01   3.0  \n",
       "1  2020-09-01   5.0  \n",
       "2  2020-09-01   0.0  \n",
       "3  2020-09-01   3.0  \n",
       "4  2020-09-01   5.0  "
      ]
     },
     "execution_count": 32,
     "metadata": {},
     "output_type": "execute_result"
    }
   ],
   "source": [
    "data.head()"
   ]
  },
  {
   "cell_type": "code",
   "execution_count": 33,
   "metadata": {},
   "outputs": [
    {
     "data": {
      "text/plain": [
       "date               37008\n",
       "medium_x           37008\n",
       "restaurant_name    37008\n",
       "location           37008\n",
       "cust_id                0\n",
       "name                5598\n",
       "city               17733\n",
       "gender             93654\n",
       "AGE                    0\n",
       "medium_y               0\n",
       "signup_date            0\n",
       "days               37008\n",
       "dtype: int64"
      ]
     },
     "execution_count": 33,
     "metadata": {},
     "output_type": "execute_result"
    }
   ],
   "source": [
    "data.isnull().sum()"
   ]
  },
  {
   "cell_type": "markdown",
   "metadata": {},
   "source": [
    "Lets clean our dataset now."
   ]
  },
  {
   "cell_type": "markdown",
   "metadata": {},
   "source": [
    "### 4. Data Cleaning & Pre-processing"
   ]
  },
  {
   "cell_type": "markdown",
   "metadata": {},
   "source": [
    "**(i) 'gender' Column**"
   ]
  },
  {
   "cell_type": "markdown",
   "metadata": {},
   "source": [
    "This column has almost 95% missing values thus we can drop it."
   ]
  },
  {
   "cell_type": "code",
   "execution_count": 34,
   "metadata": {},
   "outputs": [
    {
     "data": {
      "text/html": [
       "<div>\n",
       "<style scoped>\n",
       "    .dataframe tbody tr th:only-of-type {\n",
       "        vertical-align: middle;\n",
       "    }\n",
       "\n",
       "    .dataframe tbody tr th {\n",
       "        vertical-align: top;\n",
       "    }\n",
       "\n",
       "    .dataframe thead th {\n",
       "        text-align: right;\n",
       "    }\n",
       "</style>\n",
       "<table border=\"1\" class=\"dataframe\">\n",
       "  <thead>\n",
       "    <tr style=\"text-align: right;\">\n",
       "      <th></th>\n",
       "      <th>date</th>\n",
       "      <th>medium_x</th>\n",
       "      <th>restaurant_name</th>\n",
       "      <th>location</th>\n",
       "      <th>cust_id</th>\n",
       "      <th>name</th>\n",
       "      <th>city</th>\n",
       "      <th>AGE</th>\n",
       "      <th>medium_y</th>\n",
       "      <th>signup_date</th>\n",
       "      <th>days</th>\n",
       "    </tr>\n",
       "  </thead>\n",
       "  <tbody>\n",
       "    <tr>\n",
       "      <th>0</th>\n",
       "      <td>2020-09-04</td>\n",
       "      <td>web</td>\n",
       "      <td>Spectra</td>\n",
       "      <td>The Leela Ambience, Gurgaon</td>\n",
       "      <td>5015431352112</td>\n",
       "      <td>Juhi Agrawal</td>\n",
       "      <td>Delhi NCR</td>\n",
       "      <td>72</td>\n",
       "      <td>web</td>\n",
       "      <td>2020-09-01</td>\n",
       "      <td>3.0</td>\n",
       "    </tr>\n",
       "    <tr>\n",
       "      <th>1</th>\n",
       "      <td>2020-09-06</td>\n",
       "      <td>google</td>\n",
       "      <td>Barbeque Nation</td>\n",
       "      <td>Park Street Area, Kolkata</td>\n",
       "      <td>5015431352115</td>\n",
       "      <td>Rija</td>\n",
       "      <td>Kolkata</td>\n",
       "      <td>60</td>\n",
       "      <td>google</td>\n",
       "      <td>2020-09-01</td>\n",
       "      <td>5.0</td>\n",
       "    </tr>\n",
       "    <tr>\n",
       "      <th>2</th>\n",
       "      <td>2020-09-01</td>\n",
       "      <td>google</td>\n",
       "      <td>Barbeque Nation</td>\n",
       "      <td>Ambience Mall, Gurgaon</td>\n",
       "      <td>5015431352121</td>\n",
       "      <td>Aparna</td>\n",
       "      <td>Delhi NCR</td>\n",
       "      <td>27</td>\n",
       "      <td>google</td>\n",
       "      <td>2020-09-01</td>\n",
       "      <td>0.0</td>\n",
       "    </tr>\n",
       "    <tr>\n",
       "      <th>3</th>\n",
       "      <td>2020-09-04</td>\n",
       "      <td>google</td>\n",
       "      <td>Barbeque Pride</td>\n",
       "      <td>Hitech City, Hyderabad</td>\n",
       "      <td>5015431352122</td>\n",
       "      <td>Pavan Sai Chandra</td>\n",
       "      <td>Hyderabad</td>\n",
       "      <td>69</td>\n",
       "      <td>google</td>\n",
       "      <td>2020-09-01</td>\n",
       "      <td>3.0</td>\n",
       "    </tr>\n",
       "    <tr>\n",
       "      <th>4</th>\n",
       "      <td>2020-09-06</td>\n",
       "      <td>google</td>\n",
       "      <td>Float Brewery</td>\n",
       "      <td>Kalyan Nagar, North Bengaluru</td>\n",
       "      <td>5015431352123</td>\n",
       "      <td>Vaseem</td>\n",
       "      <td>Bengaluru</td>\n",
       "      <td>38</td>\n",
       "      <td>google</td>\n",
       "      <td>2020-09-01</td>\n",
       "      <td>5.0</td>\n",
       "    </tr>\n",
       "  </tbody>\n",
       "</table>\n",
       "</div>"
      ],
      "text/plain": [
       "        date medium_x  restaurant_name                       location  \\\n",
       "0 2020-09-04      web          Spectra    The Leela Ambience, Gurgaon   \n",
       "1 2020-09-06   google  Barbeque Nation      Park Street Area, Kolkata   \n",
       "2 2020-09-01   google  Barbeque Nation         Ambience Mall, Gurgaon   \n",
       "3 2020-09-04   google   Barbeque Pride         Hitech City, Hyderabad   \n",
       "4 2020-09-06   google    Float Brewery  Kalyan Nagar, North Bengaluru   \n",
       "\n",
       "         cust_id               name       city  AGE medium_y signup_date  days  \n",
       "0  5015431352112       Juhi Agrawal  Delhi NCR   72      web  2020-09-01   3.0  \n",
       "1  5015431352115               Rija    Kolkata   60   google  2020-09-01   5.0  \n",
       "2  5015431352121             Aparna  Delhi NCR   27   google  2020-09-01   0.0  \n",
       "3  5015431352122  Pavan Sai Chandra  Hyderabad   69   google  2020-09-01   3.0  \n",
       "4  5015431352123             Vaseem  Bengaluru   38   google  2020-09-01   5.0  "
      ]
     },
     "execution_count": 34,
     "metadata": {},
     "output_type": "execute_result"
    }
   ],
   "source": [
    "# Dropping the gender column\n",
    "data=data.drop(['gender'],axis=1)\n",
    "data.head()"
   ]
  },
  {
   "cell_type": "markdown",
   "metadata": {},
   "source": [
    "**(ii) 'days' Column**"
   ]
  },
  {
   "cell_type": "code",
   "execution_count": 35,
   "metadata": {},
   "outputs": [
    {
     "data": {
      "text/plain": [
       "37008"
      ]
     },
     "execution_count": 35,
     "metadata": {},
     "output_type": "execute_result"
    }
   ],
   "source": [
    "#checking the missing value of this column\n",
    "data['days'].isnull().sum()"
   ]
  },
  {
   "cell_type": "markdown",
   "metadata": {},
   "source": [
    "Lets create a column named **'Booking'**, based on the number of days, denoting whether customer has done any booking within 7 days of signing up or not.\n",
    "\n",
    "If the customer has signed up within 7 days then we will allocate '1' value to booking column, otherwise we will allocate '0'. For null values in days column we will allocate the value in booking column as '0' only as it can be observed that this missing data is present because the given customer has not booked anything after signing up."
   ]
  },
  {
   "cell_type": "code",
   "execution_count": 36,
   "metadata": {},
   "outputs": [],
   "source": [
    "data['Booking']=np.where(data['days']>7,0,np.where(data['days'].isnull(),0,1))"
   ]
  },
  {
   "cell_type": "code",
   "execution_count": 37,
   "metadata": {},
   "outputs": [
    {
     "data": {
      "text/html": [
       "<div>\n",
       "<style scoped>\n",
       "    .dataframe tbody tr th:only-of-type {\n",
       "        vertical-align: middle;\n",
       "    }\n",
       "\n",
       "    .dataframe tbody tr th {\n",
       "        vertical-align: top;\n",
       "    }\n",
       "\n",
       "    .dataframe thead th {\n",
       "        text-align: right;\n",
       "    }\n",
       "</style>\n",
       "<table border=\"1\" class=\"dataframe\">\n",
       "  <thead>\n",
       "    <tr style=\"text-align: right;\">\n",
       "      <th></th>\n",
       "      <th>date</th>\n",
       "      <th>medium_x</th>\n",
       "      <th>restaurant_name</th>\n",
       "      <th>location</th>\n",
       "      <th>cust_id</th>\n",
       "      <th>name</th>\n",
       "      <th>city</th>\n",
       "      <th>AGE</th>\n",
       "      <th>medium_y</th>\n",
       "      <th>signup_date</th>\n",
       "      <th>days</th>\n",
       "      <th>Booking</th>\n",
       "    </tr>\n",
       "  </thead>\n",
       "  <tbody>\n",
       "    <tr>\n",
       "      <th>0</th>\n",
       "      <td>2020-09-04</td>\n",
       "      <td>web</td>\n",
       "      <td>Spectra</td>\n",
       "      <td>The Leela Ambience, Gurgaon</td>\n",
       "      <td>5015431352112</td>\n",
       "      <td>Juhi Agrawal</td>\n",
       "      <td>Delhi NCR</td>\n",
       "      <td>72</td>\n",
       "      <td>web</td>\n",
       "      <td>2020-09-01</td>\n",
       "      <td>3.0</td>\n",
       "      <td>1</td>\n",
       "    </tr>\n",
       "    <tr>\n",
       "      <th>1</th>\n",
       "      <td>2020-09-06</td>\n",
       "      <td>google</td>\n",
       "      <td>Barbeque Nation</td>\n",
       "      <td>Park Street Area, Kolkata</td>\n",
       "      <td>5015431352115</td>\n",
       "      <td>Rija</td>\n",
       "      <td>Kolkata</td>\n",
       "      <td>60</td>\n",
       "      <td>google</td>\n",
       "      <td>2020-09-01</td>\n",
       "      <td>5.0</td>\n",
       "      <td>1</td>\n",
       "    </tr>\n",
       "    <tr>\n",
       "      <th>2</th>\n",
       "      <td>2020-09-01</td>\n",
       "      <td>google</td>\n",
       "      <td>Barbeque Nation</td>\n",
       "      <td>Ambience Mall, Gurgaon</td>\n",
       "      <td>5015431352121</td>\n",
       "      <td>Aparna</td>\n",
       "      <td>Delhi NCR</td>\n",
       "      <td>27</td>\n",
       "      <td>google</td>\n",
       "      <td>2020-09-01</td>\n",
       "      <td>0.0</td>\n",
       "      <td>1</td>\n",
       "    </tr>\n",
       "    <tr>\n",
       "      <th>3</th>\n",
       "      <td>2020-09-04</td>\n",
       "      <td>google</td>\n",
       "      <td>Barbeque Pride</td>\n",
       "      <td>Hitech City, Hyderabad</td>\n",
       "      <td>5015431352122</td>\n",
       "      <td>Pavan Sai Chandra</td>\n",
       "      <td>Hyderabad</td>\n",
       "      <td>69</td>\n",
       "      <td>google</td>\n",
       "      <td>2020-09-01</td>\n",
       "      <td>3.0</td>\n",
       "      <td>1</td>\n",
       "    </tr>\n",
       "    <tr>\n",
       "      <th>4</th>\n",
       "      <td>2020-09-06</td>\n",
       "      <td>google</td>\n",
       "      <td>Float Brewery</td>\n",
       "      <td>Kalyan Nagar, North Bengaluru</td>\n",
       "      <td>5015431352123</td>\n",
       "      <td>Vaseem</td>\n",
       "      <td>Bengaluru</td>\n",
       "      <td>38</td>\n",
       "      <td>google</td>\n",
       "      <td>2020-09-01</td>\n",
       "      <td>5.0</td>\n",
       "      <td>1</td>\n",
       "    </tr>\n",
       "  </tbody>\n",
       "</table>\n",
       "</div>"
      ],
      "text/plain": [
       "        date medium_x  restaurant_name                       location  \\\n",
       "0 2020-09-04      web          Spectra    The Leela Ambience, Gurgaon   \n",
       "1 2020-09-06   google  Barbeque Nation      Park Street Area, Kolkata   \n",
       "2 2020-09-01   google  Barbeque Nation         Ambience Mall, Gurgaon   \n",
       "3 2020-09-04   google   Barbeque Pride         Hitech City, Hyderabad   \n",
       "4 2020-09-06   google    Float Brewery  Kalyan Nagar, North Bengaluru   \n",
       "\n",
       "         cust_id               name       city  AGE medium_y signup_date  \\\n",
       "0  5015431352112       Juhi Agrawal  Delhi NCR   72      web  2020-09-01   \n",
       "1  5015431352115               Rija    Kolkata   60   google  2020-09-01   \n",
       "2  5015431352121             Aparna  Delhi NCR   27   google  2020-09-01   \n",
       "3  5015431352122  Pavan Sai Chandra  Hyderabad   69   google  2020-09-01   \n",
       "4  5015431352123             Vaseem  Bengaluru   38   google  2020-09-01   \n",
       "\n",
       "   days  Booking  \n",
       "0   3.0        1  \n",
       "1   5.0        1  \n",
       "2   0.0        1  \n",
       "3   3.0        1  \n",
       "4   5.0        1  "
      ]
     },
     "execution_count": 37,
     "metadata": {},
     "output_type": "execute_result"
    }
   ],
   "source": [
    "data.head()"
   ]
  },
  {
   "cell_type": "code",
   "execution_count": 38,
   "metadata": {},
   "outputs": [
    {
     "data": {
      "text/plain": [
       "0"
      ]
     },
     "execution_count": 38,
     "metadata": {},
     "output_type": "execute_result"
    }
   ],
   "source": [
    "data['Booking'].isnull().sum()"
   ]
  },
  {
   "cell_type": "markdown",
   "metadata": {},
   "source": [
    "We can replace the null values in **'days'** column with some number greater than 7, as we know all missing values corresponds to '0' in Booking  column."
   ]
  },
  {
   "cell_type": "code",
   "execution_count": 39,
   "metadata": {},
   "outputs": [],
   "source": [
    "data['days']=data['days'].fillna(8)"
   ]
  },
  {
   "cell_type": "code",
   "execution_count": 40,
   "metadata": {},
   "outputs": [
    {
     "data": {
      "text/plain": [
       "0"
      ]
     },
     "execution_count": 40,
     "metadata": {},
     "output_type": "execute_result"
    }
   ],
   "source": [
    "data['days'].isnull().sum()"
   ]
  },
  {
   "cell_type": "code",
   "execution_count": 41,
   "metadata": {},
   "outputs": [
    {
     "data": {
      "text/plain": [
       "0        3\n",
       "1        5\n",
       "2        0\n",
       "3        3\n",
       "4        5\n",
       "        ..\n",
       "98349    8\n",
       "98350    8\n",
       "98351    8\n",
       "98352    8\n",
       "98353    8\n",
       "Name: days, Length: 98354, dtype: int32"
      ]
     },
     "execution_count": 41,
     "metadata": {},
     "output_type": "execute_result"
    }
   ],
   "source": [
    "data['days']=data['days'].astype(int)\n",
    "data['days']"
   ]
  },
  {
   "cell_type": "markdown",
   "metadata": {},
   "source": [
    "**(iii) 'medium_x' column**"
   ]
  },
  {
   "cell_type": "markdown",
   "metadata": {},
   "source": [
    "Lets check whether **signup medium(i.e medium_y)** & **booking medium (i.e medium_x)** are same."
   ]
  },
  {
   "cell_type": "code",
   "execution_count": 42,
   "metadata": {},
   "outputs": [
    {
     "data": {
      "text/plain": [
       "array(['web', 'google', 'android', 'ios', 'concierge', 'api_partner', nan],\n",
       "      dtype=object)"
      ]
     },
     "execution_count": 42,
     "metadata": {},
     "output_type": "execute_result"
    }
   ],
   "source": [
    "data['medium_x'].unique()  #Checking for unique values in medium_x"
   ]
  },
  {
   "cell_type": "code",
   "execution_count": 43,
   "metadata": {},
   "outputs": [
    {
     "data": {
      "text/plain": [
       "array(['web', 'google', 'android', 'ios', 'concierge', 'api_partner'],\n",
       "      dtype=object)"
      ]
     },
     "execution_count": 43,
     "metadata": {},
     "output_type": "execute_result"
    }
   ],
   "source": [
    "data['medium_y'].unique() #Checking for unique values in medium_y"
   ]
  },
  {
   "cell_type": "code",
   "execution_count": 44,
   "metadata": {},
   "outputs": [
    {
     "data": {
      "text/html": [
       "<div>\n",
       "<style scoped>\n",
       "    .dataframe tbody tr th:only-of-type {\n",
       "        vertical-align: middle;\n",
       "    }\n",
       "\n",
       "    .dataframe tbody tr th {\n",
       "        vertical-align: top;\n",
       "    }\n",
       "\n",
       "    .dataframe thead th {\n",
       "        text-align: right;\n",
       "    }\n",
       "</style>\n",
       "<table border=\"1\" class=\"dataframe\">\n",
       "  <thead>\n",
       "    <tr style=\"text-align: right;\">\n",
       "      <th></th>\n",
       "      <th>medium_x</th>\n",
       "      <th>medium_y</th>\n",
       "    </tr>\n",
       "  </thead>\n",
       "  <tbody>\n",
       "    <tr>\n",
       "      <th>0</th>\n",
       "      <td>web</td>\n",
       "      <td>web</td>\n",
       "    </tr>\n",
       "    <tr>\n",
       "      <th>1</th>\n",
       "      <td>google</td>\n",
       "      <td>google</td>\n",
       "    </tr>\n",
       "    <tr>\n",
       "      <th>2</th>\n",
       "      <td>google</td>\n",
       "      <td>google</td>\n",
       "    </tr>\n",
       "    <tr>\n",
       "      <th>3</th>\n",
       "      <td>google</td>\n",
       "      <td>google</td>\n",
       "    </tr>\n",
       "    <tr>\n",
       "      <th>4</th>\n",
       "      <td>google</td>\n",
       "      <td>google</td>\n",
       "    </tr>\n",
       "    <tr>\n",
       "      <th>...</th>\n",
       "      <td>...</td>\n",
       "      <td>...</td>\n",
       "    </tr>\n",
       "    <tr>\n",
       "      <th>98349</th>\n",
       "      <td>NaN</td>\n",
       "      <td>google</td>\n",
       "    </tr>\n",
       "    <tr>\n",
       "      <th>98350</th>\n",
       "      <td>NaN</td>\n",
       "      <td>android</td>\n",
       "    </tr>\n",
       "    <tr>\n",
       "      <th>98351</th>\n",
       "      <td>NaN</td>\n",
       "      <td>android</td>\n",
       "    </tr>\n",
       "    <tr>\n",
       "      <th>98352</th>\n",
       "      <td>NaN</td>\n",
       "      <td>android</td>\n",
       "    </tr>\n",
       "    <tr>\n",
       "      <th>98353</th>\n",
       "      <td>NaN</td>\n",
       "      <td>android</td>\n",
       "    </tr>\n",
       "  </tbody>\n",
       "</table>\n",
       "<p>98354 rows × 2 columns</p>\n",
       "</div>"
      ],
      "text/plain": [
       "      medium_x medium_y\n",
       "0          web      web\n",
       "1       google   google\n",
       "2       google   google\n",
       "3       google   google\n",
       "4       google   google\n",
       "...        ...      ...\n",
       "98349      NaN   google\n",
       "98350      NaN  android\n",
       "98351      NaN  android\n",
       "98352      NaN  android\n",
       "98353      NaN  android\n",
       "\n",
       "[98354 rows x 2 columns]"
      ]
     },
     "execution_count": 44,
     "metadata": {},
     "output_type": "execute_result"
    }
   ],
   "source": [
    "data[['medium_x','medium_y']]"
   ]
  },
  {
   "cell_type": "code",
   "execution_count": 45,
   "metadata": {},
   "outputs": [
    {
     "data": {
      "text/plain": [
       "98354"
      ]
     },
     "execution_count": 45,
     "metadata": {},
     "output_type": "execute_result"
    }
   ],
   "source": [
    "data.shape[0]  #Total no. of records"
   ]
  },
  {
   "cell_type": "code",
   "execution_count": 46,
   "metadata": {},
   "outputs": [
    {
     "name": "stdout",
     "output_type": "stream",
     "text": [
      "Total Records: 98354\n",
      "No. of same records: 55382\n",
      "Missing values in 'medium_x' column: 37008\n",
      "No. of different records: 5964\n"
     ]
    }
   ],
   "source": [
    "##Checking whether signing up medium is same as booking medium\n",
    "\n",
    "count=0\n",
    "for i in range(data.shape[0]):\n",
    "    if(data['medium_x'][i]==data['medium_y'][i]):\n",
    "        count=count+1\n",
    "print('Total Records: {}'.format(data.shape[0]))\n",
    "print('No. of same records: {}'.format(count))\n",
    "print(\"Missing values in 'medium_x' column: {}\".format(data['medium_x'].isnull().sum()))\n",
    "print(\"No. of different records: {}\".format(data['medium_x'].notna().sum()-count))"
   ]
  },
  {
   "cell_type": "markdown",
   "metadata": {},
   "source": [
    "Lets plot for both columns 'medium_x' and 'medium_y'."
   ]
  },
  {
   "cell_type": "code",
   "execution_count": 47,
   "metadata": {},
   "outputs": [
    {
     "data": {
      "text/plain": [
       "<seaborn.axisgrid.FacetGrid at 0x19972f1d288>"
      ]
     },
     "execution_count": 47,
     "metadata": {},
     "output_type": "execute_result"
    },
    {
     "data": {
      "image/png": "[encoded data removed]",
      "text/plain": [
       "<Figure size 360x360 with 1 Axes>"
      ]
     },
     "metadata": {
      "needs_background": "light"
     },
     "output_type": "display_data"
    }
   ],
   "source": [
    "sns.catplot(y = 'medium_x', kind = 'count',palette = 'ch:0.95',data = data)"
   ]
  },
  {
   "cell_type": "code",
   "execution_count": 48,
   "metadata": {},
   "outputs": [
    {
     "data": {
      "text/plain": [
       "<seaborn.axisgrid.FacetGrid at 0x19972470988>"
      ]
     },
     "execution_count": 48,
     "metadata": {},
     "output_type": "execute_result"
    },
    {
     "data": {
      "image/png": "[encoded data removed]",
      "text/plain": [
       "<Figure size 360x360 with 1 Axes>"
      ]
     },
     "metadata": {
      "needs_background": "light"
     },
     "output_type": "display_data"
    }
   ],
   "source": [
    "sns.catplot(y = 'medium_y', kind = 'count',palette = 'ch:0.95',data = data)"
   ]
  },
  {
   "cell_type": "markdown",
   "metadata": {},
   "source": [
    "From all above observations, we can say that since not all the customers who has signed up has necesarily booked, it had lead to high number of missing values in **medium_x** column.     \n",
    "\n",
    "We cannot say that both the columns have same values as around 5964 values are different, so instead of filling any missing value, lets create another column named **Medium** having values of **medium_x** and then filling null values with the values in **medium_y**."
   ]
  },
  {
   "cell_type": "code",
   "execution_count": 49,
   "metadata": {},
   "outputs": [
    {
     "data": {
      "text/html": [
       "<div>\n",
       "<style scoped>\n",
       "    .dataframe tbody tr th:only-of-type {\n",
       "        vertical-align: middle;\n",
       "    }\n",
       "\n",
       "    .dataframe tbody tr th {\n",
       "        vertical-align: top;\n",
       "    }\n",
       "\n",
       "    .dataframe thead th {\n",
       "        text-align: right;\n",
       "    }\n",
       "</style>\n",
       "<table border=\"1\" class=\"dataframe\">\n",
       "  <thead>\n",
       "    <tr style=\"text-align: right;\">\n",
       "      <th></th>\n",
       "      <th>date</th>\n",
       "      <th>medium_x</th>\n",
       "      <th>restaurant_name</th>\n",
       "      <th>location</th>\n",
       "      <th>cust_id</th>\n",
       "      <th>name</th>\n",
       "      <th>city</th>\n",
       "      <th>AGE</th>\n",
       "      <th>medium_y</th>\n",
       "      <th>signup_date</th>\n",
       "      <th>days</th>\n",
       "      <th>Booking</th>\n",
       "      <th>Medium</th>\n",
       "    </tr>\n",
       "  </thead>\n",
       "  <tbody>\n",
       "    <tr>\n",
       "      <th>0</th>\n",
       "      <td>2020-09-04</td>\n",
       "      <td>web</td>\n",
       "      <td>Spectra</td>\n",
       "      <td>The Leela Ambience, Gurgaon</td>\n",
       "      <td>5015431352112</td>\n",
       "      <td>Juhi Agrawal</td>\n",
       "      <td>Delhi NCR</td>\n",
       "      <td>72</td>\n",
       "      <td>web</td>\n",
       "      <td>2020-09-01</td>\n",
       "      <td>3</td>\n",
       "      <td>1</td>\n",
       "      <td>web</td>\n",
       "    </tr>\n",
       "    <tr>\n",
       "      <th>1</th>\n",
       "      <td>2020-09-06</td>\n",
       "      <td>google</td>\n",
       "      <td>Barbeque Nation</td>\n",
       "      <td>Park Street Area, Kolkata</td>\n",
       "      <td>5015431352115</td>\n",
       "      <td>Rija</td>\n",
       "      <td>Kolkata</td>\n",
       "      <td>60</td>\n",
       "      <td>google</td>\n",
       "      <td>2020-09-01</td>\n",
       "      <td>5</td>\n",
       "      <td>1</td>\n",
       "      <td>google</td>\n",
       "    </tr>\n",
       "    <tr>\n",
       "      <th>2</th>\n",
       "      <td>2020-09-01</td>\n",
       "      <td>google</td>\n",
       "      <td>Barbeque Nation</td>\n",
       "      <td>Ambience Mall, Gurgaon</td>\n",
       "      <td>5015431352121</td>\n",
       "      <td>Aparna</td>\n",
       "      <td>Delhi NCR</td>\n",
       "      <td>27</td>\n",
       "      <td>google</td>\n",
       "      <td>2020-09-01</td>\n",
       "      <td>0</td>\n",
       "      <td>1</td>\n",
       "      <td>google</td>\n",
       "    </tr>\n",
       "    <tr>\n",
       "      <th>3</th>\n",
       "      <td>2020-09-04</td>\n",
       "      <td>google</td>\n",
       "      <td>Barbeque Pride</td>\n",
       "      <td>Hitech City, Hyderabad</td>\n",
       "      <td>5015431352122</td>\n",
       "      <td>Pavan Sai Chandra</td>\n",
       "      <td>Hyderabad</td>\n",
       "      <td>69</td>\n",
       "      <td>google</td>\n",
       "      <td>2020-09-01</td>\n",
       "      <td>3</td>\n",
       "      <td>1</td>\n",
       "      <td>google</td>\n",
       "    </tr>\n",
       "    <tr>\n",
       "      <th>4</th>\n",
       "      <td>2020-09-06</td>\n",
       "      <td>google</td>\n",
       "      <td>Float Brewery</td>\n",
       "      <td>Kalyan Nagar, North Bengaluru</td>\n",
       "      <td>5015431352123</td>\n",
       "      <td>Vaseem</td>\n",
       "      <td>Bengaluru</td>\n",
       "      <td>38</td>\n",
       "      <td>google</td>\n",
       "      <td>2020-09-01</td>\n",
       "      <td>5</td>\n",
       "      <td>1</td>\n",
       "      <td>google</td>\n",
       "    </tr>\n",
       "  </tbody>\n",
       "</table>\n",
       "</div>"
      ],
      "text/plain": [
       "        date medium_x  restaurant_name                       location  \\\n",
       "0 2020-09-04      web          Spectra    The Leela Ambience, Gurgaon   \n",
       "1 2020-09-06   google  Barbeque Nation      Park Street Area, Kolkata   \n",
       "2 2020-09-01   google  Barbeque Nation         Ambience Mall, Gurgaon   \n",
       "3 2020-09-04   google   Barbeque Pride         Hitech City, Hyderabad   \n",
       "4 2020-09-06   google    Float Brewery  Kalyan Nagar, North Bengaluru   \n",
       "\n",
       "         cust_id               name       city  AGE medium_y signup_date  \\\n",
       "0  5015431352112       Juhi Agrawal  Delhi NCR   72      web  2020-09-01   \n",
       "1  5015431352115               Rija    Kolkata   60   google  2020-09-01   \n",
       "2  5015431352121             Aparna  Delhi NCR   27   google  2020-09-01   \n",
       "3  5015431352122  Pavan Sai Chandra  Hyderabad   69   google  2020-09-01   \n",
       "4  5015431352123             Vaseem  Bengaluru   38   google  2020-09-01   \n",
       "\n",
       "   days  Booking  Medium  \n",
       "0     3        1     web  \n",
       "1     5        1  google  \n",
       "2     0        1  google  \n",
       "3     3        1  google  \n",
       "4     5        1  google  "
      ]
     },
     "execution_count": 49,
     "metadata": {},
     "output_type": "execute_result"
    }
   ],
   "source": [
    "data['Medium']=data['medium_x'].fillna(data['medium_y'])\n",
    "data.head()"
   ]
  },
  {
   "cell_type": "markdown",
   "metadata": {},
   "source": [
    "**(iv) 'city' Column**"
   ]
  },
  {
   "cell_type": "markdown",
   "metadata": {},
   "source": [
    "Lets check whether there is any relation between city and booking."
   ]
  },
  {
   "cell_type": "code",
   "execution_count": 50,
   "metadata": {},
   "outputs": [
    {
     "data": {
      "text/html": [
       "<div>\n",
       "<style scoped>\n",
       "    .dataframe tbody tr th:only-of-type {\n",
       "        vertical-align: middle;\n",
       "    }\n",
       "\n",
       "    .dataframe tbody tr th {\n",
       "        vertical-align: top;\n",
       "    }\n",
       "\n",
       "    .dataframe thead th {\n",
       "        text-align: right;\n",
       "    }\n",
       "</style>\n",
       "<table border=\"1\" class=\"dataframe\">\n",
       "  <thead>\n",
       "    <tr style=\"text-align: right;\">\n",
       "      <th>city</th>\n",
       "      <th>False</th>\n",
       "      <th>True</th>\n",
       "    </tr>\n",
       "    <tr>\n",
       "      <th>Booking</th>\n",
       "      <th></th>\n",
       "      <th></th>\n",
       "    </tr>\n",
       "  </thead>\n",
       "  <tbody>\n",
       "    <tr>\n",
       "      <th>0</th>\n",
       "      <td>25921.0</td>\n",
       "      <td>17733.0</td>\n",
       "    </tr>\n",
       "    <tr>\n",
       "      <th>1</th>\n",
       "      <td>54700.0</td>\n",
       "      <td>NaN</td>\n",
       "    </tr>\n",
       "  </tbody>\n",
       "</table>\n",
       "</div>"
      ],
      "text/plain": [
       "city       False    True \n",
       "Booking                  \n",
       "0        25921.0  17733.0\n",
       "1        54700.0      NaN"
      ]
     },
     "execution_count": 50,
     "metadata": {},
     "output_type": "execute_result"
    }
   ],
   "source": [
    "data.groupby(data['city'].isnull()).Booking.value_counts().unstack('city')"
   ]
  },
  {
   "cell_type": "markdown",
   "metadata": {},
   "source": [
    "We can see from above table that all the null values corresponds to '0' in the booking column.Instead of dropping those records, we can create a new category(say- **city_null**) in this column."
   ]
  },
  {
   "cell_type": "code",
   "execution_count": 51,
   "metadata": {},
   "outputs": [],
   "source": [
    "## Replacing the null values with a new category\n",
    "data['city']=data['city'].fillna('city_null')"
   ]
  },
  {
   "cell_type": "code",
   "execution_count": 52,
   "metadata": {},
   "outputs": [
    {
     "data": {
      "text/html": [
       "<div>\n",
       "<style scoped>\n",
       "    .dataframe tbody tr th:only-of-type {\n",
       "        vertical-align: middle;\n",
       "    }\n",
       "\n",
       "    .dataframe tbody tr th {\n",
       "        vertical-align: top;\n",
       "    }\n",
       "\n",
       "    .dataframe thead th {\n",
       "        text-align: right;\n",
       "    }\n",
       "</style>\n",
       "<table border=\"1\" class=\"dataframe\">\n",
       "  <thead>\n",
       "    <tr style=\"text-align: right;\">\n",
       "      <th></th>\n",
       "      <th>date</th>\n",
       "      <th>medium_x</th>\n",
       "      <th>restaurant_name</th>\n",
       "      <th>location</th>\n",
       "      <th>cust_id</th>\n",
       "      <th>name</th>\n",
       "      <th>city</th>\n",
       "      <th>AGE</th>\n",
       "      <th>medium_y</th>\n",
       "      <th>signup_date</th>\n",
       "      <th>days</th>\n",
       "      <th>Booking</th>\n",
       "      <th>Medium</th>\n",
       "    </tr>\n",
       "  </thead>\n",
       "  <tbody>\n",
       "    <tr>\n",
       "      <th>61348</th>\n",
       "      <td>NaT</td>\n",
       "      <td>NaN</td>\n",
       "      <td>NaN</td>\n",
       "      <td>NaN</td>\n",
       "      <td>5015431352120</td>\n",
       "      <td>Bharath</td>\n",
       "      <td>city_null</td>\n",
       "      <td>32</td>\n",
       "      <td>google</td>\n",
       "      <td>2020-09-01</td>\n",
       "      <td>8</td>\n",
       "      <td>0</td>\n",
       "      <td>google</td>\n",
       "    </tr>\n",
       "    <tr>\n",
       "      <th>61351</th>\n",
       "      <td>NaT</td>\n",
       "      <td>NaN</td>\n",
       "      <td>NaN</td>\n",
       "      <td>NaN</td>\n",
       "      <td>5015431352140</td>\n",
       "      <td>NaN</td>\n",
       "      <td>city_null</td>\n",
       "      <td>40</td>\n",
       "      <td>android</td>\n",
       "      <td>2020-09-01</td>\n",
       "      <td>8</td>\n",
       "      <td>0</td>\n",
       "      <td>android</td>\n",
       "    </tr>\n",
       "    <tr>\n",
       "      <th>61352</th>\n",
       "      <td>NaT</td>\n",
       "      <td>NaN</td>\n",
       "      <td>NaN</td>\n",
       "      <td>NaN</td>\n",
       "      <td>5015431352142</td>\n",
       "      <td>NaN</td>\n",
       "      <td>city_null</td>\n",
       "      <td>18</td>\n",
       "      <td>android</td>\n",
       "      <td>2020-09-01</td>\n",
       "      <td>8</td>\n",
       "      <td>0</td>\n",
       "      <td>android</td>\n",
       "    </tr>\n",
       "    <tr>\n",
       "      <th>61353</th>\n",
       "      <td>NaT</td>\n",
       "      <td>NaN</td>\n",
       "      <td>NaN</td>\n",
       "      <td>NaN</td>\n",
       "      <td>5015431352143</td>\n",
       "      <td>Harish</td>\n",
       "      <td>city_null</td>\n",
       "      <td>63</td>\n",
       "      <td>google</td>\n",
       "      <td>2020-09-01</td>\n",
       "      <td>8</td>\n",
       "      <td>0</td>\n",
       "      <td>google</td>\n",
       "    </tr>\n",
       "    <tr>\n",
       "      <th>61354</th>\n",
       "      <td>NaT</td>\n",
       "      <td>NaN</td>\n",
       "      <td>NaN</td>\n",
       "      <td>NaN</td>\n",
       "      <td>5015431352144</td>\n",
       "      <td>Sakina</td>\n",
       "      <td>city_null</td>\n",
       "      <td>49</td>\n",
       "      <td>google</td>\n",
       "      <td>2020-09-01</td>\n",
       "      <td>8</td>\n",
       "      <td>0</td>\n",
       "      <td>google</td>\n",
       "    </tr>\n",
       "  </tbody>\n",
       "</table>\n",
       "</div>"
      ],
      "text/plain": [
       "      date medium_x restaurant_name location        cust_id     name  \\\n",
       "61348  NaT      NaN             NaN      NaN  5015431352120  Bharath   \n",
       "61351  NaT      NaN             NaN      NaN  5015431352140      NaN   \n",
       "61352  NaT      NaN             NaN      NaN  5015431352142      NaN   \n",
       "61353  NaT      NaN             NaN      NaN  5015431352143   Harish   \n",
       "61354  NaT      NaN             NaN      NaN  5015431352144   Sakina   \n",
       "\n",
       "            city  AGE medium_y signup_date  days  Booking   Medium  \n",
       "61348  city_null   32   google  2020-09-01     8        0   google  \n",
       "61351  city_null   40  android  2020-09-01     8        0  android  \n",
       "61352  city_null   18  android  2020-09-01     8        0  android  \n",
       "61353  city_null   63   google  2020-09-01     8        0   google  \n",
       "61354  city_null   49   google  2020-09-01     8        0   google  "
      ]
     },
     "execution_count": 52,
     "metadata": {},
     "output_type": "execute_result"
    }
   ],
   "source": [
    "data[data['city']=='city_null'].head() "
   ]
  },
  {
   "cell_type": "markdown",
   "metadata": {},
   "source": [
    "**(v) 'restaurant_name' Column**"
   ]
  },
  {
   "cell_type": "code",
   "execution_count": 53,
   "metadata": {},
   "outputs": [
    {
     "data": {
      "text/html": [
       "<div>\n",
       "<style scoped>\n",
       "    .dataframe tbody tr th:only-of-type {\n",
       "        vertical-align: middle;\n",
       "    }\n",
       "\n",
       "    .dataframe tbody tr th {\n",
       "        vertical-align: top;\n",
       "    }\n",
       "\n",
       "    .dataframe thead th {\n",
       "        text-align: right;\n",
       "    }\n",
       "</style>\n",
       "<table border=\"1\" class=\"dataframe\">\n",
       "  <thead>\n",
       "    <tr style=\"text-align: right;\">\n",
       "      <th>restaurant_name</th>\n",
       "      <th>False</th>\n",
       "      <th>True</th>\n",
       "    </tr>\n",
       "    <tr>\n",
       "      <th>Booking</th>\n",
       "      <th></th>\n",
       "      <th></th>\n",
       "    </tr>\n",
       "  </thead>\n",
       "  <tbody>\n",
       "    <tr>\n",
       "      <th>0</th>\n",
       "      <td>6646.0</td>\n",
       "      <td>37008.0</td>\n",
       "    </tr>\n",
       "    <tr>\n",
       "      <th>1</th>\n",
       "      <td>54700.0</td>\n",
       "      <td>NaN</td>\n",
       "    </tr>\n",
       "  </tbody>\n",
       "</table>\n",
       "</div>"
      ],
      "text/plain": [
       "restaurant_name    False    True \n",
       "Booking                          \n",
       "0                 6646.0  37008.0\n",
       "1                54700.0      NaN"
      ]
     },
     "execution_count": 53,
     "metadata": {},
     "output_type": "execute_result"
    }
   ],
   "source": [
    "#Checking for relation between restaurant_name and Booking status\n",
    "data.groupby(data['restaurant_name'].isnull()).Booking.value_counts().unstack('restaurant_name')"
   ]
  },
  {
   "cell_type": "markdown",
   "metadata": {},
   "source": [
    "Here also, all null values corresponds to '0' in the Booking column as seen in the city column. Therefore, for this column too, we will create a new category say- **'restaurant_null'**."
   ]
  },
  {
   "cell_type": "code",
   "execution_count": 54,
   "metadata": {},
   "outputs": [],
   "source": [
    "data['restaurant_name']=data['restaurant_name'].fillna('restaurant_null')"
   ]
  },
  {
   "cell_type": "code",
   "execution_count": 55,
   "metadata": {},
   "outputs": [
    {
     "data": {
      "text/html": [
       "<div>\n",
       "<style scoped>\n",
       "    .dataframe tbody tr th:only-of-type {\n",
       "        vertical-align: middle;\n",
       "    }\n",
       "\n",
       "    .dataframe tbody tr th {\n",
       "        vertical-align: top;\n",
       "    }\n",
       "\n",
       "    .dataframe thead th {\n",
       "        text-align: right;\n",
       "    }\n",
       "</style>\n",
       "<table border=\"1\" class=\"dataframe\">\n",
       "  <thead>\n",
       "    <tr style=\"text-align: right;\">\n",
       "      <th></th>\n",
       "      <th>date</th>\n",
       "      <th>medium_x</th>\n",
       "      <th>restaurant_name</th>\n",
       "      <th>location</th>\n",
       "      <th>cust_id</th>\n",
       "      <th>name</th>\n",
       "      <th>city</th>\n",
       "      <th>AGE</th>\n",
       "      <th>medium_y</th>\n",
       "      <th>signup_date</th>\n",
       "      <th>days</th>\n",
       "      <th>Booking</th>\n",
       "      <th>Medium</th>\n",
       "    </tr>\n",
       "  </thead>\n",
       "  <tbody>\n",
       "    <tr>\n",
       "      <th>61346</th>\n",
       "      <td>NaT</td>\n",
       "      <td>NaN</td>\n",
       "      <td>restaurant_null</td>\n",
       "      <td>NaN</td>\n",
       "      <td>5015431352113</td>\n",
       "      <td>Manish</td>\n",
       "      <td>Delhi NCR</td>\n",
       "      <td>45</td>\n",
       "      <td>android</td>\n",
       "      <td>2020-09-01</td>\n",
       "      <td>8</td>\n",
       "      <td>0</td>\n",
       "      <td>android</td>\n",
       "    </tr>\n",
       "    <tr>\n",
       "      <th>61347</th>\n",
       "      <td>NaT</td>\n",
       "      <td>NaN</td>\n",
       "      <td>restaurant_null</td>\n",
       "      <td>NaN</td>\n",
       "      <td>5015431352114</td>\n",
       "      <td>mani</td>\n",
       "      <td>Chennai</td>\n",
       "      <td>29</td>\n",
       "      <td>android</td>\n",
       "      <td>2020-09-01</td>\n",
       "      <td>8</td>\n",
       "      <td>0</td>\n",
       "      <td>android</td>\n",
       "    </tr>\n",
       "    <tr>\n",
       "      <th>61348</th>\n",
       "      <td>NaT</td>\n",
       "      <td>NaN</td>\n",
       "      <td>restaurant_null</td>\n",
       "      <td>NaN</td>\n",
       "      <td>5015431352120</td>\n",
       "      <td>Bharath</td>\n",
       "      <td>city_null</td>\n",
       "      <td>32</td>\n",
       "      <td>google</td>\n",
       "      <td>2020-09-01</td>\n",
       "      <td>8</td>\n",
       "      <td>0</td>\n",
       "      <td>google</td>\n",
       "    </tr>\n",
       "    <tr>\n",
       "      <th>61349</th>\n",
       "      <td>NaT</td>\n",
       "      <td>NaN</td>\n",
       "      <td>restaurant_null</td>\n",
       "      <td>NaN</td>\n",
       "      <td>5015431352124</td>\n",
       "      <td>Sonu Kumar shaw</td>\n",
       "      <td>Kolkata</td>\n",
       "      <td>32</td>\n",
       "      <td>android</td>\n",
       "      <td>2020-09-01</td>\n",
       "      <td>8</td>\n",
       "      <td>0</td>\n",
       "      <td>android</td>\n",
       "    </tr>\n",
       "    <tr>\n",
       "      <th>61350</th>\n",
       "      <td>NaT</td>\n",
       "      <td>NaN</td>\n",
       "      <td>restaurant_null</td>\n",
       "      <td>NaN</td>\n",
       "      <td>5015431352135</td>\n",
       "      <td>Mohammad anas</td>\n",
       "      <td>Delhi NCR</td>\n",
       "      <td>32</td>\n",
       "      <td>android</td>\n",
       "      <td>2020-09-01</td>\n",
       "      <td>8</td>\n",
       "      <td>0</td>\n",
       "      <td>android</td>\n",
       "    </tr>\n",
       "  </tbody>\n",
       "</table>\n",
       "</div>"
      ],
      "text/plain": [
       "      date medium_x  restaurant_name location        cust_id             name  \\\n",
       "61346  NaT      NaN  restaurant_null      NaN  5015431352113           Manish   \n",
       "61347  NaT      NaN  restaurant_null      NaN  5015431352114             mani   \n",
       "61348  NaT      NaN  restaurant_null      NaN  5015431352120          Bharath   \n",
       "61349  NaT      NaN  restaurant_null      NaN  5015431352124  Sonu Kumar shaw   \n",
       "61350  NaT      NaN  restaurant_null      NaN  5015431352135    Mohammad anas   \n",
       "\n",
       "            city  AGE medium_y signup_date  days  Booking   Medium  \n",
       "61346  Delhi NCR   45  android  2020-09-01     8        0  android  \n",
       "61347    Chennai   29  android  2020-09-01     8        0  android  \n",
       "61348  city_null   32   google  2020-09-01     8        0   google  \n",
       "61349    Kolkata   32  android  2020-09-01     8        0  android  \n",
       "61350  Delhi NCR   32  android  2020-09-01     8        0  android  "
      ]
     },
     "execution_count": 55,
     "metadata": {},
     "output_type": "execute_result"
    }
   ],
   "source": [
    "data[data['restaurant_name']=='restaurant_null'].head()"
   ]
  },
  {
   "cell_type": "markdown",
   "metadata": {},
   "source": [
    "**(vi) 'location' Column**"
   ]
  },
  {
   "cell_type": "code",
   "execution_count": 56,
   "metadata": {},
   "outputs": [
    {
     "data": {
      "text/html": [
       "<div>\n",
       "<style scoped>\n",
       "    .dataframe tbody tr th:only-of-type {\n",
       "        vertical-align: middle;\n",
       "    }\n",
       "\n",
       "    .dataframe tbody tr th {\n",
       "        vertical-align: top;\n",
       "    }\n",
       "\n",
       "    .dataframe thead th {\n",
       "        text-align: right;\n",
       "    }\n",
       "</style>\n",
       "<table border=\"1\" class=\"dataframe\">\n",
       "  <thead>\n",
       "    <tr style=\"text-align: right;\">\n",
       "      <th>location</th>\n",
       "      <th>False</th>\n",
       "      <th>True</th>\n",
       "    </tr>\n",
       "    <tr>\n",
       "      <th>Booking</th>\n",
       "      <th></th>\n",
       "      <th></th>\n",
       "    </tr>\n",
       "  </thead>\n",
       "  <tbody>\n",
       "    <tr>\n",
       "      <th>0</th>\n",
       "      <td>6646.0</td>\n",
       "      <td>37008.0</td>\n",
       "    </tr>\n",
       "    <tr>\n",
       "      <th>1</th>\n",
       "      <td>54700.0</td>\n",
       "      <td>NaN</td>\n",
       "    </tr>\n",
       "  </tbody>\n",
       "</table>\n",
       "</div>"
      ],
      "text/plain": [
       "location    False    True \n",
       "Booking                   \n",
       "0          6646.0  37008.0\n",
       "1         54700.0      NaN"
      ]
     },
     "execution_count": 56,
     "metadata": {},
     "output_type": "execute_result"
    }
   ],
   "source": [
    "#Checking for relation between location and Booking status\n",
    "data.groupby(data['location'].isnull()).Booking.value_counts().unstack('location')"
   ]
  },
  {
   "cell_type": "markdown",
   "metadata": {},
   "source": [
    "It is also similar case as that of **'city'** and **'restaurant_name'** columns, therefore , here also we will create a new category called **'location_null'** and replace all the null values in **'location'** column with it."
   ]
  },
  {
   "cell_type": "code",
   "execution_count": 57,
   "metadata": {},
   "outputs": [],
   "source": [
    "data['location']=data['location'].fillna('location_null')"
   ]
  },
  {
   "cell_type": "code",
   "execution_count": 58,
   "metadata": {},
   "outputs": [
    {
     "data": {
      "text/html": [
       "<div>\n",
       "<style scoped>\n",
       "    .dataframe tbody tr th:only-of-type {\n",
       "        vertical-align: middle;\n",
       "    }\n",
       "\n",
       "    .dataframe tbody tr th {\n",
       "        vertical-align: top;\n",
       "    }\n",
       "\n",
       "    .dataframe thead th {\n",
       "        text-align: right;\n",
       "    }\n",
       "</style>\n",
       "<table border=\"1\" class=\"dataframe\">\n",
       "  <thead>\n",
       "    <tr style=\"text-align: right;\">\n",
       "      <th></th>\n",
       "      <th>date</th>\n",
       "      <th>medium_x</th>\n",
       "      <th>restaurant_name</th>\n",
       "      <th>location</th>\n",
       "      <th>cust_id</th>\n",
       "      <th>name</th>\n",
       "      <th>city</th>\n",
       "      <th>AGE</th>\n",
       "      <th>medium_y</th>\n",
       "      <th>signup_date</th>\n",
       "      <th>days</th>\n",
       "      <th>Booking</th>\n",
       "      <th>Medium</th>\n",
       "    </tr>\n",
       "  </thead>\n",
       "  <tbody>\n",
       "    <tr>\n",
       "      <th>61346</th>\n",
       "      <td>NaT</td>\n",
       "      <td>NaN</td>\n",
       "      <td>restaurant_null</td>\n",
       "      <td>location_null</td>\n",
       "      <td>5015431352113</td>\n",
       "      <td>Manish</td>\n",
       "      <td>Delhi NCR</td>\n",
       "      <td>45</td>\n",
       "      <td>android</td>\n",
       "      <td>2020-09-01</td>\n",
       "      <td>8</td>\n",
       "      <td>0</td>\n",
       "      <td>android</td>\n",
       "    </tr>\n",
       "    <tr>\n",
       "      <th>61347</th>\n",
       "      <td>NaT</td>\n",
       "      <td>NaN</td>\n",
       "      <td>restaurant_null</td>\n",
       "      <td>location_null</td>\n",
       "      <td>5015431352114</td>\n",
       "      <td>mani</td>\n",
       "      <td>Chennai</td>\n",
       "      <td>29</td>\n",
       "      <td>android</td>\n",
       "      <td>2020-09-01</td>\n",
       "      <td>8</td>\n",
       "      <td>0</td>\n",
       "      <td>android</td>\n",
       "    </tr>\n",
       "    <tr>\n",
       "      <th>61348</th>\n",
       "      <td>NaT</td>\n",
       "      <td>NaN</td>\n",
       "      <td>restaurant_null</td>\n",
       "      <td>location_null</td>\n",
       "      <td>5015431352120</td>\n",
       "      <td>Bharath</td>\n",
       "      <td>city_null</td>\n",
       "      <td>32</td>\n",
       "      <td>google</td>\n",
       "      <td>2020-09-01</td>\n",
       "      <td>8</td>\n",
       "      <td>0</td>\n",
       "      <td>google</td>\n",
       "    </tr>\n",
       "    <tr>\n",
       "      <th>61349</th>\n",
       "      <td>NaT</td>\n",
       "      <td>NaN</td>\n",
       "      <td>restaurant_null</td>\n",
       "      <td>location_null</td>\n",
       "      <td>5015431352124</td>\n",
       "      <td>Sonu Kumar shaw</td>\n",
       "      <td>Kolkata</td>\n",
       "      <td>32</td>\n",
       "      <td>android</td>\n",
       "      <td>2020-09-01</td>\n",
       "      <td>8</td>\n",
       "      <td>0</td>\n",
       "      <td>android</td>\n",
       "    </tr>\n",
       "    <tr>\n",
       "      <th>61350</th>\n",
       "      <td>NaT</td>\n",
       "      <td>NaN</td>\n",
       "      <td>restaurant_null</td>\n",
       "      <td>location_null</td>\n",
       "      <td>5015431352135</td>\n",
       "      <td>Mohammad anas</td>\n",
       "      <td>Delhi NCR</td>\n",
       "      <td>32</td>\n",
       "      <td>android</td>\n",
       "      <td>2020-09-01</td>\n",
       "      <td>8</td>\n",
       "      <td>0</td>\n",
       "      <td>android</td>\n",
       "    </tr>\n",
       "  </tbody>\n",
       "</table>\n",
       "</div>"
      ],
      "text/plain": [
       "      date medium_x  restaurant_name       location        cust_id  \\\n",
       "61346  NaT      NaN  restaurant_null  location_null  5015431352113   \n",
       "61347  NaT      NaN  restaurant_null  location_null  5015431352114   \n",
       "61348  NaT      NaN  restaurant_null  location_null  5015431352120   \n",
       "61349  NaT      NaN  restaurant_null  location_null  5015431352124   \n",
       "61350  NaT      NaN  restaurant_null  location_null  5015431352135   \n",
       "\n",
       "                  name       city  AGE medium_y signup_date  days  Booking  \\\n",
       "61346           Manish  Delhi NCR   45  android  2020-09-01     8        0   \n",
       "61347             mani    Chennai   29  android  2020-09-01     8        0   \n",
       "61348          Bharath  city_null   32   google  2020-09-01     8        0   \n",
       "61349  Sonu Kumar shaw    Kolkata   32  android  2020-09-01     8        0   \n",
       "61350    Mohammad anas  Delhi NCR   32  android  2020-09-01     8        0   \n",
       "\n",
       "        Medium  \n",
       "61346  android  \n",
       "61347  android  \n",
       "61348   google  \n",
       "61349  android  \n",
       "61350  android  "
      ]
     },
     "execution_count": 58,
     "metadata": {},
     "output_type": "execute_result"
    }
   ],
   "source": [
    "data[data['location']=='location_null'].head()"
   ]
  },
  {
   "cell_type": "code",
   "execution_count": 59,
   "metadata": {},
   "outputs": [
    {
     "data": {
      "text/plain": [
       "date               37008\n",
       "medium_x           37008\n",
       "restaurant_name        0\n",
       "location               0\n",
       "cust_id                0\n",
       "name                5598\n",
       "city                   0\n",
       "AGE                    0\n",
       "medium_y               0\n",
       "signup_date            0\n",
       "days                   0\n",
       "Booking                0\n",
       "Medium                 0\n",
       "dtype: int64"
      ]
     },
     "execution_count": 59,
     "metadata": {},
     "output_type": "execute_result"
    }
   ],
   "source": [
    "data.isnull().sum()"
   ]
  },
  {
   "cell_type": "markdown",
   "metadata": {},
   "source": [
    "Lets create another dataframe and keep only those features which are required (**'restaurant_name', 'location', 'city', 'AGE', 'Medium', 'Booking'**)"
   ]
  },
  {
   "cell_type": "code",
   "execution_count": 76,
   "metadata": {},
   "outputs": [
    {
     "data": {
      "text/html": [
       "<div>\n",
       "<style scoped>\n",
       "    .dataframe tbody tr th:only-of-type {\n",
       "        vertical-align: middle;\n",
       "    }\n",
       "\n",
       "    .dataframe tbody tr th {\n",
       "        vertical-align: top;\n",
       "    }\n",
       "\n",
       "    .dataframe thead th {\n",
       "        text-align: right;\n",
       "    }\n",
       "</style>\n",
       "<table border=\"1\" class=\"dataframe\">\n",
       "  <thead>\n",
       "    <tr style=\"text-align: right;\">\n",
       "      <th></th>\n",
       "      <th>restaurant_name</th>\n",
       "      <th>location</th>\n",
       "      <th>city</th>\n",
       "      <th>AGE</th>\n",
       "      <th>Medium</th>\n",
       "      <th>Booking</th>\n",
       "    </tr>\n",
       "  </thead>\n",
       "  <tbody>\n",
       "    <tr>\n",
       "      <th>0</th>\n",
       "      <td>Spectra</td>\n",
       "      <td>The Leela Ambience, Gurgaon</td>\n",
       "      <td>Delhi NCR</td>\n",
       "      <td>72</td>\n",
       "      <td>web</td>\n",
       "      <td>1</td>\n",
       "    </tr>\n",
       "    <tr>\n",
       "      <th>1</th>\n",
       "      <td>Barbeque Nation</td>\n",
       "      <td>Park Street Area, Kolkata</td>\n",
       "      <td>Kolkata</td>\n",
       "      <td>60</td>\n",
       "      <td>google</td>\n",
       "      <td>1</td>\n",
       "    </tr>\n",
       "    <tr>\n",
       "      <th>2</th>\n",
       "      <td>Barbeque Nation</td>\n",
       "      <td>Ambience Mall, Gurgaon</td>\n",
       "      <td>Delhi NCR</td>\n",
       "      <td>27</td>\n",
       "      <td>google</td>\n",
       "      <td>1</td>\n",
       "    </tr>\n",
       "    <tr>\n",
       "      <th>3</th>\n",
       "      <td>Barbeque Pride</td>\n",
       "      <td>Hitech City, Hyderabad</td>\n",
       "      <td>Hyderabad</td>\n",
       "      <td>69</td>\n",
       "      <td>google</td>\n",
       "      <td>1</td>\n",
       "    </tr>\n",
       "    <tr>\n",
       "      <th>4</th>\n",
       "      <td>Float Brewery</td>\n",
       "      <td>Kalyan Nagar, North Bengaluru</td>\n",
       "      <td>Bengaluru</td>\n",
       "      <td>38</td>\n",
       "      <td>google</td>\n",
       "      <td>1</td>\n",
       "    </tr>\n",
       "  </tbody>\n",
       "</table>\n",
       "</div>"
      ],
      "text/plain": [
       "   restaurant_name                       location       city  AGE  Medium  \\\n",
       "0          Spectra    The Leela Ambience, Gurgaon  Delhi NCR   72     web   \n",
       "1  Barbeque Nation      Park Street Area, Kolkata    Kolkata   60  google   \n",
       "2  Barbeque Nation         Ambience Mall, Gurgaon  Delhi NCR   27  google   \n",
       "3   Barbeque Pride         Hitech City, Hyderabad  Hyderabad   69  google   \n",
       "4    Float Brewery  Kalyan Nagar, North Bengaluru  Bengaluru   38  google   \n",
       "\n",
       "   Booking  \n",
       "0        1  \n",
       "1        1  \n",
       "2        1  \n",
       "3        1  \n",
       "4        1  "
      ]
     },
     "execution_count": 76,
     "metadata": {},
     "output_type": "execute_result"
    }
   ],
   "source": [
    "cleaned_data=data[['restaurant_name','location','city','AGE','Medium','Booking']]\n",
    "cleaned_data.head()"
   ]
  },
  {
   "cell_type": "code",
   "execution_count": 77,
   "metadata": {},
   "outputs": [
    {
     "data": {
      "text/plain": [
       "restaurant_name    0\n",
       "location           0\n",
       "city               0\n",
       "AGE                0\n",
       "Medium             0\n",
       "Booking            0\n",
       "dtype: int64"
      ]
     },
     "execution_count": 77,
     "metadata": {},
     "output_type": "execute_result"
    }
   ],
   "source": [
    "cleaned_data.isnull().sum()"
   ]
  },
  {
   "cell_type": "markdown",
   "metadata": {},
   "source": [
    "There are no missing values we are good to proceed further."
   ]
  },
  {
   "cell_type": "markdown",
   "metadata": {},
   "source": [
    "### 5. Feature Engineering"
   ]
  },
  {
   "cell_type": "markdown",
   "metadata": {},
   "source": [
    "Lets again check the type of variables."
   ]
  },
  {
   "cell_type": "markdown",
   "metadata": {},
   "source": [
    "**Numerical Features**"
   ]
  },
  {
   "cell_type": "code",
   "execution_count": 78,
   "metadata": {},
   "outputs": [
    {
     "name": "stdout",
     "output_type": "stream",
     "text": [
      "Number of numerical variables:  2\n"
     ]
    },
    {
     "data": {
      "text/html": [
       "<div>\n",
       "<style scoped>\n",
       "    .dataframe tbody tr th:only-of-type {\n",
       "        vertical-align: middle;\n",
       "    }\n",
       "\n",
       "    .dataframe tbody tr th {\n",
       "        vertical-align: top;\n",
       "    }\n",
       "\n",
       "    .dataframe thead th {\n",
       "        text-align: right;\n",
       "    }\n",
       "</style>\n",
       "<table border=\"1\" class=\"dataframe\">\n",
       "  <thead>\n",
       "    <tr style=\"text-align: right;\">\n",
       "      <th></th>\n",
       "      <th>AGE</th>\n",
       "      <th>Booking</th>\n",
       "    </tr>\n",
       "  </thead>\n",
       "  <tbody>\n",
       "    <tr>\n",
       "      <th>0</th>\n",
       "      <td>72</td>\n",
       "      <td>1</td>\n",
       "    </tr>\n",
       "    <tr>\n",
       "      <th>1</th>\n",
       "      <td>60</td>\n",
       "      <td>1</td>\n",
       "    </tr>\n",
       "    <tr>\n",
       "      <th>2</th>\n",
       "      <td>27</td>\n",
       "      <td>1</td>\n",
       "    </tr>\n",
       "    <tr>\n",
       "      <th>3</th>\n",
       "      <td>69</td>\n",
       "      <td>1</td>\n",
       "    </tr>\n",
       "    <tr>\n",
       "      <th>4</th>\n",
       "      <td>38</td>\n",
       "      <td>1</td>\n",
       "    </tr>\n",
       "  </tbody>\n",
       "</table>\n",
       "</div>"
      ],
      "text/plain": [
       "   AGE  Booking\n",
       "0   72        1\n",
       "1   60        1\n",
       "2   27        1\n",
       "3   69        1\n",
       "4   38        1"
      ]
     },
     "execution_count": 78,
     "metadata": {},
     "output_type": "execute_result"
    }
   ],
   "source": [
    "numerical_features = [feature for feature in cleaned_data.columns if cleaned_data[feature].dtypes != 'O']\n",
    "\n",
    "print('Number of numerical variables: ', len(numerical_features))\n",
    "\n",
    "# visualise the numerical variables\n",
    "cleaned_data[numerical_features].head()"
   ]
  },
  {
   "cell_type": "markdown",
   "metadata": {},
   "source": [
    "Among the three columns :- **AGE** is the only **continuous numerical feature** and other **(Booking)** discrete numerical features."
   ]
  },
  {
   "cell_type": "markdown",
   "metadata": {},
   "source": [
    "Lets check for the outlier in the numerical continuous feature **'AGE'**"
   ]
  },
  {
   "cell_type": "code",
   "execution_count": 79,
   "metadata": {},
   "outputs": [
    {
     "data": {
      "text/plain": [
       "<matplotlib.axes._subplots.AxesSubplot at 0x19973a08388>"
      ]
     },
     "execution_count": 79,
     "metadata": {},
     "output_type": "execute_result"
    },
    {
     "data": {
      "image/png": "[encoded data removed]",
      "text/plain": [
       "<Figure size 432x288 with 1 Axes>"
      ]
     },
     "metadata": {
      "needs_background": "light"
     },
     "output_type": "display_data"
    }
   ],
   "source": [
    "sns.boxplot(y='AGE',data=cleaned_data)"
   ]
  },
  {
   "cell_type": "markdown",
   "metadata": {},
   "source": [
    "No outliers are present."
   ]
  },
  {
   "cell_type": "markdown",
   "metadata": {},
   "source": [
    "**Categorical Variables**"
   ]
  },
  {
   "cell_type": "code",
   "execution_count": 80,
   "metadata": {},
   "outputs": [
    {
     "data": {
      "text/plain": [
       "['restaurant_name', 'location', 'city', 'Medium']"
      ]
     },
     "execution_count": 80,
     "metadata": {},
     "output_type": "execute_result"
    }
   ],
   "source": [
    "categorical_features=[feature for feature in cleaned_data.columns if cleaned_data[feature].dtypes=='O']\n",
    "categorical_features  "
   ]
  },
  {
   "cell_type": "markdown",
   "metadata": {},
   "source": [
    "We cannot directly pass the categorical data into the model, thus for all these column we have to apply encoding techniques."
   ]
  },
  {
   "cell_type": "markdown",
   "metadata": {},
   "source": [
    "There are two types of encoding techniques for categorical features:-    \n",
    "\n",
    "1) **One-Hot Encoding** :- It creates additional feature on the basis of number of unique values and then added to the dataframe as a new feature.           \n",
    "2) **Label Encoding** :- In this technique, each label is assigned a unique integer based on alphabetical ordering."
   ]
  },
  {
   "cell_type": "markdown",
   "metadata": {},
   "source": [
    "Lets first check the count of unique categories in all these columns."
   ]
  },
  {
   "cell_type": "code",
   "execution_count": 81,
   "metadata": {},
   "outputs": [
    {
     "name": "stdout",
     "output_type": "stream",
     "text": [
      "restaurant_name : 2314\n",
      "location : 1232\n",
      "city : 168\n",
      "Medium : 6\n"
     ]
    }
   ],
   "source": [
    "for features in categorical_features:\n",
    "    print(\"{} : {}\".format(features,len(cleaned_data[features].unique())))"
   ]
  },
  {
   "cell_type": "markdown",
   "metadata": {},
   "source": [
    "We can observe that unique values for columns :- **restaurant_name**, **location**, and **city** are pretty high.      \n",
    "\n",
    "If we will apply one-hot encoding technique to those features there is greater chance that it will overfit the data, and also increase the complexity. Instead, we can apply label encoding to these features."
   ]
  },
  {
   "cell_type": "markdown",
   "metadata": {},
   "source": [
    "**Label Encoding**"
   ]
  },
  {
   "cell_type": "code",
   "execution_count": 82,
   "metadata": {},
   "outputs": [],
   "source": [
    "from sklearn.preprocessing import LabelEncoder"
   ]
  },
  {
   "cell_type": "code",
   "execution_count": 83,
   "metadata": {},
   "outputs": [
    {
     "name": "stderr",
     "output_type": "stream",
     "text": [
      "C:\\Users\\Ankita\\anaconda3\\lib\\site-packages\\pandas\\core\\indexing.py:965: SettingWithCopyWarning: \n",
      "A value is trying to be set on a copy of a slice from a DataFrame.\n",
      "Try using .loc[row_indexer,col_indexer] = value instead\n",
      "\n",
      "See the caveats in the documentation: https://pandas.pydata.org/pandas-docs/stable/user_guide/indexing.html#returning-a-view-versus-a-copy\n",
      "  self.obj[item] = s\n"
     ]
    },
    {
     "data": {
      "text/html": [
       "<div>\n",
       "<style scoped>\n",
       "    .dataframe tbody tr th:only-of-type {\n",
       "        vertical-align: middle;\n",
       "    }\n",
       "\n",
       "    .dataframe tbody tr th {\n",
       "        vertical-align: top;\n",
       "    }\n",
       "\n",
       "    .dataframe thead th {\n",
       "        text-align: right;\n",
       "    }\n",
       "</style>\n",
       "<table border=\"1\" class=\"dataframe\">\n",
       "  <thead>\n",
       "    <tr style=\"text-align: right;\">\n",
       "      <th></th>\n",
       "      <th>restaurant_name</th>\n",
       "      <th>location</th>\n",
       "      <th>city</th>\n",
       "      <th>AGE</th>\n",
       "      <th>Medium</th>\n",
       "      <th>Booking</th>\n",
       "    </tr>\n",
       "  </thead>\n",
       "  <tbody>\n",
       "    <tr>\n",
       "      <th>0</th>\n",
       "      <td>1747</td>\n",
       "      <td>1090</td>\n",
       "      <td>38</td>\n",
       "      <td>72</td>\n",
       "      <td>5</td>\n",
       "      <td>1</td>\n",
       "    </tr>\n",
       "    <tr>\n",
       "      <th>1</th>\n",
       "      <td>224</td>\n",
       "      <td>749</td>\n",
       "      <td>86</td>\n",
       "      <td>60</td>\n",
       "      <td>3</td>\n",
       "      <td>1</td>\n",
       "    </tr>\n",
       "    <tr>\n",
       "      <th>2</th>\n",
       "      <td>224</td>\n",
       "      <td>42</td>\n",
       "      <td>38</td>\n",
       "      <td>27</td>\n",
       "      <td>3</td>\n",
       "      <td>1</td>\n",
       "    </tr>\n",
       "    <tr>\n",
       "      <th>3</th>\n",
       "      <td>225</td>\n",
       "      <td>388</td>\n",
       "      <td>56</td>\n",
       "      <td>69</td>\n",
       "      <td>3</td>\n",
       "      <td>1</td>\n",
       "    </tr>\n",
       "    <tr>\n",
       "      <th>4</th>\n",
       "      <td>705</td>\n",
       "      <td>529</td>\n",
       "      <td>21</td>\n",
       "      <td>38</td>\n",
       "      <td>3</td>\n",
       "      <td>1</td>\n",
       "    </tr>\n",
       "  </tbody>\n",
       "</table>\n",
       "</div>"
      ],
      "text/plain": [
       "   restaurant_name  location  city  AGE  Medium  Booking\n",
       "0             1747      1090    38   72       5        1\n",
       "1              224       749    86   60       3        1\n",
       "2              224        42    38   27       3        1\n",
       "3              225       388    56   69       3        1\n",
       "4              705       529    21   38       3        1"
      ]
     },
     "execution_count": 83,
     "metadata": {},
     "output_type": "execute_result"
    }
   ],
   "source": [
    "le=LabelEncoder()\n",
    "\n",
    "for col in categorical_features:\n",
    "    if col in cleaned_data.columns:\n",
    "        i = cleaned_data.columns.get_loc(col)\n",
    "        cleaned_data.iloc[:,i] = cleaned_data.apply(lambda i:le.fit_transform(i.astype(str)), axis=0, result_type='expand')\n",
    "        \n",
    "cleaned_data.head()    "
   ]
  },
  {
   "cell_type": "markdown",
   "metadata": {},
   "source": [
    "**Correlation Matrix with Heatmap**      \n",
    "\n",
    "Correlation is a statistical measure. Data correlation is a way to understand the relationship between multiple values or features in the dataset."
   ]
  },
  {
   "cell_type": "markdown",
   "metadata": {},
   "source": [
    "There are three different types of correlations:\n",
    "\n",
    "1) **Positive Correlation** :-  value of one variable increases then the value of the other variable(s) also increases and vice versa\n",
    "\n",
    "2) **Negative Correlation** :-  This occurs when the value of one variable increases and the value of another variable(s) decreases (inversely proportional)\n",
    "\n",
    "3) **No Correlation** :- Two features might not have any relationship with each other. This happens when the value of a variable is changed then the value of the other variable is not impacted."
   ]
  },
  {
   "cell_type": "markdown",
   "metadata": {},
   "source": [
    "Lets check how each feature is related to others using corr() function."
   ]
  },
  {
   "cell_type": "code",
   "execution_count": 84,
   "metadata": {},
   "outputs": [
    {
     "data": {
      "text/html": [
       "<div>\n",
       "<style scoped>\n",
       "    .dataframe tbody tr th:only-of-type {\n",
       "        vertical-align: middle;\n",
       "    }\n",
       "\n",
       "    .dataframe tbody tr th {\n",
       "        vertical-align: top;\n",
       "    }\n",
       "\n",
       "    .dataframe thead th {\n",
       "        text-align: right;\n",
       "    }\n",
       "</style>\n",
       "<table border=\"1\" class=\"dataframe\">\n",
       "  <thead>\n",
       "    <tr style=\"text-align: right;\">\n",
       "      <th></th>\n",
       "      <th>restaurant_name</th>\n",
       "      <th>location</th>\n",
       "      <th>city</th>\n",
       "      <th>AGE</th>\n",
       "      <th>Medium</th>\n",
       "      <th>Booking</th>\n",
       "    </tr>\n",
       "  </thead>\n",
       "  <tbody>\n",
       "    <tr>\n",
       "      <th>restaurant_name</th>\n",
       "      <td>1.000000</td>\n",
       "      <td>0.580701</td>\n",
       "      <td>0.301146</td>\n",
       "      <td>-0.157748</td>\n",
       "      <td>-0.408827</td>\n",
       "      <td>-0.737928</td>\n",
       "    </tr>\n",
       "    <tr>\n",
       "      <th>location</th>\n",
       "      <td>0.580701</td>\n",
       "      <td>1.000000</td>\n",
       "      <td>0.440160</td>\n",
       "      <td>-0.123479</td>\n",
       "      <td>-0.343700</td>\n",
       "      <td>-0.624501</td>\n",
       "    </tr>\n",
       "    <tr>\n",
       "      <th>city</th>\n",
       "      <td>0.301146</td>\n",
       "      <td>0.440160</td>\n",
       "      <td>1.000000</td>\n",
       "      <td>0.088297</td>\n",
       "      <td>-0.052006</td>\n",
       "      <td>-0.390937</td>\n",
       "    </tr>\n",
       "    <tr>\n",
       "      <th>AGE</th>\n",
       "      <td>-0.157748</td>\n",
       "      <td>-0.123479</td>\n",
       "      <td>0.088297</td>\n",
       "      <td>1.000000</td>\n",
       "      <td>0.209604</td>\n",
       "      <td>0.167040</td>\n",
       "    </tr>\n",
       "    <tr>\n",
       "      <th>Medium</th>\n",
       "      <td>-0.408827</td>\n",
       "      <td>-0.343700</td>\n",
       "      <td>-0.052006</td>\n",
       "      <td>0.209604</td>\n",
       "      <td>1.000000</td>\n",
       "      <td>0.440013</td>\n",
       "    </tr>\n",
       "    <tr>\n",
       "      <th>Booking</th>\n",
       "      <td>-0.737928</td>\n",
       "      <td>-0.624501</td>\n",
       "      <td>-0.390937</td>\n",
       "      <td>0.167040</td>\n",
       "      <td>0.440013</td>\n",
       "      <td>1.000000</td>\n",
       "    </tr>\n",
       "  </tbody>\n",
       "</table>\n",
       "</div>"
      ],
      "text/plain": [
       "                 restaurant_name  location      city       AGE    Medium  \\\n",
       "restaurant_name         1.000000  0.580701  0.301146 -0.157748 -0.408827   \n",
       "location                0.580701  1.000000  0.440160 -0.123479 -0.343700   \n",
       "city                    0.301146  0.440160  1.000000  0.088297 -0.052006   \n",
       "AGE                    -0.157748 -0.123479  0.088297  1.000000  0.209604   \n",
       "Medium                 -0.408827 -0.343700 -0.052006  0.209604  1.000000   \n",
       "Booking                -0.737928 -0.624501 -0.390937  0.167040  0.440013   \n",
       "\n",
       "                  Booking  \n",
       "restaurant_name -0.737928  \n",
       "location        -0.624501  \n",
       "city            -0.390937  \n",
       "AGE              0.167040  \n",
       "Medium           0.440013  \n",
       "Booking          1.000000  "
      ]
     },
     "execution_count": 84,
     "metadata": {},
     "output_type": "execute_result"
    }
   ],
   "source": [
    "cleaned_data.corr()"
   ]
  },
  {
   "cell_type": "markdown",
   "metadata": {},
   "source": [
    "Creating a pictorial visualisation of the above correlation matrix using a heatmap helps in better understanding. We can do that using Seaborn's Heatmap function."
   ]
  },
  {
   "cell_type": "code",
   "execution_count": 85,
   "metadata": {},
   "outputs": [
    {
     "data": {
      "text/plain": [
       "<matplotlib.axes._subplots.AxesSubplot at 0x1997358fc08>"
      ]
     },
     "execution_count": 85,
     "metadata": {},
     "output_type": "execute_result"
    },
    {
     "data": {
      "image/png": "[encoded data removed]",
      "text/plain": [
       "<Figure size 1152x864 with 2 Axes>"
      ]
     },
     "metadata": {
      "needs_background": "light"
     },
     "output_type": "display_data"
    }
   ],
   "source": [
    "plt.figure(figsize=(16,12))\n",
    "sns.heatmap(cleaned_data.corr(),cmap='bwr',annot=True)"
   ]
  },
  {
   "cell_type": "markdown",
   "metadata": {},
   "source": [
    "Considering **Booking** feature as target variable, it has positive correlation with **Medium** feature, negative correaltion with **restaurant_name**, **location**, & **city** features and no correlation or very less correlation with **AGE** feature."
   ]
  },
  {
   "cell_type": "markdown",
   "metadata": {},
   "source": [
    "**Scaling the data before splitting into training & testing data.**"
   ]
  },
  {
   "cell_type": "code",
   "execution_count": 86,
   "metadata": {},
   "outputs": [],
   "source": [
    "X=cleaned_data.drop(['Booking'],axis=1)\n",
    "y=cleaned_data['Booking']"
   ]
  },
  {
   "cell_type": "code",
   "execution_count": 87,
   "metadata": {},
   "outputs": [],
   "source": [
    "scalar = StandardScaler()\n",
    "\n",
    "x_transform = scalar.fit_transform(X)"
   ]
  },
  {
   "cell_type": "markdown",
   "metadata": {},
   "source": [
    "**Checking for multicollinearity.**"
   ]
  },
  {
   "cell_type": "code",
   "execution_count": 88,
   "metadata": {},
   "outputs": [],
   "source": [
    "from statsmodels.stats.outliers_influence import variance_inflation_factor\n",
    "variables = X_scaled\n",
    "vif = pd.DataFrame()\n",
    "vif[\"VIF\"] = [variance_inflation_factor(variables, i) for i in range(variables.shape[1])]\n",
    "vif[\"Features\"] = X.columns"
   ]
  },
  {
   "cell_type": "code",
   "execution_count": 89,
   "metadata": {},
   "outputs": [
    {
     "data": {
      "text/html": [
       "<div>\n",
       "<style scoped>\n",
       "    .dataframe tbody tr th:only-of-type {\n",
       "        vertical-align: middle;\n",
       "    }\n",
       "\n",
       "    .dataframe tbody tr th {\n",
       "        vertical-align: top;\n",
       "    }\n",
       "\n",
       "    .dataframe thead th {\n",
       "        text-align: right;\n",
       "    }\n",
       "</style>\n",
       "<table border=\"1\" class=\"dataframe\">\n",
       "  <thead>\n",
       "    <tr style=\"text-align: right;\">\n",
       "      <th></th>\n",
       "      <th>VIF</th>\n",
       "      <th>Features</th>\n",
       "    </tr>\n",
       "  </thead>\n",
       "  <tbody>\n",
       "    <tr>\n",
       "      <th>0</th>\n",
       "      <td>1.656622</td>\n",
       "      <td>restaurant_name</td>\n",
       "    </tr>\n",
       "    <tr>\n",
       "      <th>1</th>\n",
       "      <td>1.775841</td>\n",
       "      <td>location</td>\n",
       "    </tr>\n",
       "    <tr>\n",
       "      <th>2</th>\n",
       "      <td>1.299114</td>\n",
       "      <td>city</td>\n",
       "    </tr>\n",
       "    <tr>\n",
       "      <th>3</th>\n",
       "      <td>1.077120</td>\n",
       "      <td>AGE</td>\n",
       "    </tr>\n",
       "    <tr>\n",
       "      <th>4</th>\n",
       "      <td>1.274262</td>\n",
       "      <td>Medium</td>\n",
       "    </tr>\n",
       "  </tbody>\n",
       "</table>\n",
       "</div>"
      ],
      "text/plain": [
       "        VIF         Features\n",
       "0  1.656622  restaurant_name\n",
       "1  1.775841         location\n",
       "2  1.299114             city\n",
       "3  1.077120              AGE\n",
       "4  1.274262           Medium"
      ]
     },
     "execution_count": 89,
     "metadata": {},
     "output_type": "execute_result"
    }
   ],
   "source": [
    "vif"
   ]
  },
  {
   "cell_type": "markdown",
   "metadata": {},
   "source": [
    "All vif values are < 5. Therefore, there is no multicollinearity among the features."
   ]
  },
  {
   "cell_type": "markdown",
   "metadata": {},
   "source": [
    "### 6. Splitting data into Test and Train"
   ]
  },
  {
   "cell_type": "code",
   "execution_count": 90,
   "metadata": {},
   "outputs": [],
   "source": [
    "from sklearn.model_selection import train_test_split\n",
    "#70-30 split\n",
    "X_train, X_test, y_train, y_test = train_test_split(X_scaled,y,test_size=0.3, random_state=143)"
   ]
  },
  {
   "cell_type": "code",
   "execution_count": 91,
   "metadata": {},
   "outputs": [
    {
     "name": "stdout",
     "output_type": "stream",
     "text": [
      "X_train: (68847, 5)\n",
      "y_train: (68847,)\n",
      "X_test: (29507, 5)\n",
      "y_test: (29507,)\n"
     ]
    }
   ],
   "source": [
    "# Checking split \n",
    "print('X_train:', X_train.shape)\n",
    "print('y_train:', y_train.shape)\n",
    "print('X_test:', X_test.shape)\n",
    "print('y_test:', y_test.shape)"
   ]
  },
  {
   "cell_type": "markdown",
   "metadata": {},
   "source": [
    "Checking whether y_train and y_test data is balanced or not."
   ]
  },
  {
   "cell_type": "code",
   "execution_count": 92,
   "metadata": {},
   "outputs": [
    {
     "data": {
      "text/plain": [
       "1    38271\n",
       "0    30576\n",
       "Name: Booking, dtype: int64"
      ]
     },
     "execution_count": 92,
     "metadata": {},
     "output_type": "execute_result"
    }
   ],
   "source": [
    "y_train.value_counts()"
   ]
  },
  {
   "cell_type": "code",
   "execution_count": 93,
   "metadata": {},
   "outputs": [
    {
     "data": {
      "text/plain": [
       "1    16429\n",
       "0    13078\n",
       "Name: Booking, dtype: int64"
      ]
     },
     "execution_count": 93,
     "metadata": {},
     "output_type": "execute_result"
    }
   ],
   "source": [
    "y_test.value_counts()"
   ]
  },
  {
   "cell_type": "markdown",
   "metadata": {},
   "source": [
    "Both y_train and y_test data are balanced."
   ]
  },
  {
   "cell_type": "markdown",
   "metadata": {},
   "source": [
    "### Model Building"
   ]
  },
  {
   "cell_type": "markdown",
   "metadata": {},
   "source": [
    "We will try various algorithms on the dataset:-      \n",
    "\n",
    "1) Decision Tree Classifier         \n",
    "2) Random Forest Classifier           \n",
    "3) Gaussian Naive Bayes   \n",
    "4) Support Vector Classifier                 "
   ]
  },
  {
   "cell_type": "code",
   "execution_count": 94,
   "metadata": {},
   "outputs": [],
   "source": [
    "from sklearn.metrics import accuracy_score, confusion_matrix, roc_curve, roc_auc_score, recall_score, precision_score\n",
    "from sklearn.metrics import f1_score, classification_report"
   ]
  },
  {
   "cell_type": "markdown",
   "metadata": {},
   "source": [
    "**1. Decision Tree Classifier**"
   ]
  },
  {
   "cell_type": "code",
   "execution_count": 95,
   "metadata": {},
   "outputs": [
    {
     "name": "stdout",
     "output_type": "stream",
     "text": [
      "Decision Tree\n",
      "Training Accuracy: 93.60320711142097 %\n",
      "Testing Accuracy: 92.91 %\n",
      "Decision Tree Accuracy: 92.91354593825194 %\n"
     ]
    }
   ],
   "source": [
    "#importing Decision Tree Classifier\n",
    "from sklearn.tree import DecisionTreeClassifier\n",
    "from sklearn import tree\n",
    "\n",
    "# Creating Decision Tree classifer object\n",
    "DT = DecisionTreeClassifier(max_depth=10)\n",
    "\n",
    "# Train the Classifier/fitting the model\n",
    "DT.fit(X_train,y_train)\n",
    "\n",
    "# predict the response\n",
    "y_pred_dt = DT.predict(X_test)\n",
    "acc_dt = round(DT.score(X_test,y_test) * 100, 2)\n",
    "\n",
    "#Import scikit-learn metrics module for accuracy calculation\n",
    "from sklearn import metrics\n",
    "from sklearn.metrics import accuracy_score \n",
    "\n",
    "# evaluate accuracy\n",
    "print(\"Decision Tree\")\n",
    "print (\"Training Accuracy: {} %\".format(DT.score(X_train,y_train)*100))\n",
    "print (\"Testing Accuracy: {} %\".format(acc_dt))\n",
    "print (\"Decision Tree Accuracy: {} %\".format(metrics.accuracy_score(y_test, y_pred_dt)*100))"
   ]
  },
  {
   "cell_type": "code",
   "execution_count": 143,
   "metadata": {},
   "outputs": [
    {
     "name": "stdout",
     "output_type": "stream",
     "text": [
      "Recall score :  0.9291354593825194\n",
      "Precision score :  0.9352435283900091\n",
      "F1 score :  0.9283254040768701\n"
     ]
    }
   ],
   "source": [
    "print(\"Recall score : \", recall_score(y_test, y_pred_dt , average='weighted'))\n",
    "print(\"Precision score : \",precision_score(y_test, y_pred_dt , average='weighted'))\n",
    "print(\"F1 score : \",f1_score(y_test, y_pred_dt , average='weighted'))"
   ]
  },
  {
   "cell_type": "code",
   "execution_count": 97,
   "metadata": {},
   "outputs": [
    {
     "name": "stdout",
     "output_type": "stream",
     "text": [
      "[[11106  1972]\n",
      " [  119 16310]]\n",
      "Accuracy : 0.9291354593825194\n"
     ]
    }
   ],
   "source": [
    "#Creating a confusion matrix and printing the accuracy score \n",
    "cm = confusion_matrix(y_test, y_pred_dt)\n",
    "print(cm)\n",
    "print('Accuracy : {}'.format(accuracy_score(y_test, y_pred_dt)))"
   ]
  },
  {
   "cell_type": "markdown",
   "metadata": {},
   "source": [
    "**2. Random Forest Classifier**"
   ]
  },
  {
   "cell_type": "code",
   "execution_count": 98,
   "metadata": {},
   "outputs": [
    {
     "name": "stdout",
     "output_type": "stream",
     "text": [
      "Random Forest\n",
      "Training Accuracy: 97.44941682281 %\n",
      "Testing Accuracy: 91.79 %\n",
      "Random Forest Accuracy: 91.78500016945131 %\n"
     ]
    }
   ],
   "source": [
    "# Importing Random forest classifier \n",
    "from sklearn.ensemble import RandomForestClassifier\n",
    "\n",
    "# Create a random forest Classifier\n",
    "RF = RandomForestClassifier(n_jobs=2, random_state=0)\n",
    "\n",
    "# Train the Classifier/fitting the model\n",
    "RF.fit(X_train, y_train)\n",
    "\n",
    "# predict the response\n",
    "y_pred_rf = RF.predict(X_test)\n",
    "acc_rf = round(RF.score(X_test,y_test) * 100, 2)\n",
    "\n",
    "#Import scikit-learn metrics module for accuracy calculation\n",
    "from sklearn import metrics\n",
    "\n",
    "# evaluate accuracy\n",
    "print (\"Random Forest\")\n",
    "print (\"Training Accuracy: {} %\".format(RF.score(X_train,y_train)*100))\n",
    "print (\"Testing Accuracy: {} %\".format(acc_rf))\n",
    "print (\"Random Forest Accuracy: {} %\".format(metrics.accuracy_score(y_test, y_pred_rf)*100))"
   ]
  },
  {
   "cell_type": "code",
   "execution_count": 144,
   "metadata": {},
   "outputs": [
    {
     "name": "stdout",
     "output_type": "stream",
     "text": [
      "Recall score :  0.9178500016945131\n",
      "Precision score :  0.9199599257752596\n",
      "F1 score :  0.917318789909756\n"
     ]
    }
   ],
   "source": [
    "print(\"Recall score : \", recall_score(y_test, y_pred_rf , average='weighted'))\n",
    "print(\"Precision score : \",precision_score(y_test, y_pred_rf , average='weighted'))\n",
    "print(\"F1 score : \",f1_score(y_test, y_pred_rf , average='weighted'))"
   ]
  },
  {
   "cell_type": "code",
   "execution_count": 146,
   "metadata": {},
   "outputs": [
    {
     "name": "stdout",
     "output_type": "stream",
     "text": [
      "[[11263  1815]\n",
      " [  609 15820]]\n",
      "Accuracy : 0.9178500016945131\n"
     ]
    }
   ],
   "source": [
    "#Creating a confusion matrix and printing the accuracy score \n",
    "cm = confusion_matrix(y_test, y_pred_rf)\n",
    "print(cm)\n",
    "print('Accuracy : {}'.format(accuracy_score(y_test, y_pred_rf)))"
   ]
  },
  {
   "cell_type": "markdown",
   "metadata": {},
   "source": [
    "**3. Gaussian Naive Bayes**"
   ]
  },
  {
   "cell_type": "code",
   "execution_count": 101,
   "metadata": {},
   "outputs": [
    {
     "name": "stdout",
     "output_type": "stream",
     "text": [
      "Gaussain Naive Bayes\n",
      "Training Accuracy: 90.16224381599778 %\n",
      "Testing Accuracy: 89.94 %\n",
      "GaussianNB Accuracy: 89.94475887077643 %\n"
     ]
    }
   ],
   "source": [
    "#Import Gaussian Naive Bayes model\n",
    "from sklearn.naive_bayes import GaussianNB\n",
    "\n",
    "#Create a Gaussian Classifier\n",
    "gnb = GaussianNB()\n",
    "\n",
    "# Train the Classifier/fitting the model\n",
    "gnb.fit(X_train, y_train)\n",
    "\n",
    "# predict the response\n",
    "y_pred_gnb = gnb.predict(X_test)\n",
    "acc_gnb = round(gnb.score(X_test,y_test) * 100, 2)\n",
    "\n",
    "#Import scikit-learn metrics module for accuracy calculation\n",
    "from sklearn import metrics\n",
    "\n",
    "# evaluate accuracy\n",
    "print(\"Gaussain Naive Bayes\")\n",
    "print (\"Training Accuracy: {} %\".format(gnb.score(X_train,y_train)*100))\n",
    "print (\"Testing Accuracy: {} %\".format(acc_gnb))\n",
    "print(\"GaussianNB Accuracy: {} %\".format(metrics.accuracy_score(y_test, y_pred_gnb)*100))\n"
   ]
  },
  {
   "cell_type": "code",
   "execution_count": 147,
   "metadata": {},
   "outputs": [
    {
     "name": "stdout",
     "output_type": "stream",
     "text": [
      "Recall score :  0.8994475887077643\n",
      "Precision score :  0.8995010113884399\n",
      "F1 score :  0.899231067697359\n"
     ]
    }
   ],
   "source": [
    "print(\"Recall score : \", recall_score(y_test, y_pred_gnb , average='weighted'))\n",
    "print(\"Precision score : \",precision_score(y_test, y_pred_gnb , average='weighted'))\n",
    "print(\"F1 score : \",f1_score(y_test, y_pred_gnb , average='weighted'))"
   ]
  },
  {
   "cell_type": "code",
   "execution_count": 148,
   "metadata": {},
   "outputs": [
    {
     "name": "stdout",
     "output_type": "stream",
     "text": [
      "[[11354  1724]\n",
      " [ 1243 15186]]\n",
      "Accuracy : 0.8994475887077643\n"
     ]
    }
   ],
   "source": [
    "#Creating a confusion matrix and printing the accuracy score \n",
    "cm = confusion_matrix(y_test, y_pred_gnb)\n",
    "print(cm)\n",
    "print('Accuracy : {}'.format(accuracy_score(y_test, y_pred_gnb)))"
   ]
  },
  {
   "cell_type": "code",
   "execution_count": 104,
   "metadata": {},
   "outputs": [
    {
     "data": {
      "image/png": "[encoded data removed]",
      "text/plain": [
       "<Figure size 432x288 with 1 Axes>"
      ]
     },
     "metadata": {
      "needs_background": "light"
     },
     "output_type": "display_data"
    }
   ],
   "source": [
    "# visualizing accuracies for all ML Algorithms using Matplotlib\n",
    "predictors_group = ('DecisionTree','Random Forest', 'GaussianNB') \n",
    "x_pos = np.arange(len(predictors_group))\n",
    "accuracies1 = [acc_dt, acc_rf, acc_gnb]\n",
    "    \n",
    "plt.bar(x_pos, accuracies1, align='center', alpha=0.5, color='purple')\n",
    "plt.xticks(x_pos, predictors_group, rotation='vertical')\n",
    "plt.ylabel('Accuracy (%)')\n",
    "plt.title('Classifier Accuracies')\n",
    "plt.show()"
   ]
  },
  {
   "cell_type": "code",
   "execution_count": 105,
   "metadata": {},
   "outputs": [
    {
     "name": "stdout",
     "output_type": "stream",
     "text": [
      "Decision Tree: 92.91 %\n",
      "Random Forest: 91.79 %\n",
      "GaussianNB: 89.94 %\n"
     ]
    }
   ],
   "source": [
    "#printing top three accuracies\n",
    "\n",
    "print('Decision Tree:', acc_dt,'%')\n",
    "print('Random Forest:', acc_rf,'%')\n",
    "print('GaussianNB:',acc_gnb,'%')"
   ]
  },
  {
   "cell_type": "markdown",
   "metadata": {},
   "source": [
    "**4. Support Vector Classifier**"
   ]
  },
  {
   "cell_type": "code",
   "execution_count": 106,
   "metadata": {},
   "outputs": [
    {
     "name": "stdout",
     "output_type": "stream",
     "text": [
      "Support Vector Classifier\n",
      "Training Accuracy: 90.71709733176463 %\n",
      "Testing Accuracy: 90.5 %\n",
      "SVC Accuracy: 90.5005591893449 %\n"
     ]
    }
   ],
   "source": [
    "#Importing Support Vector Machine model\n",
    "from sklearn.svm import SVC, LinearSVC\n",
    "\n",
    "#Creating a Support Vector Classfier\n",
    "svc=LinearSVC()\n",
    "\n",
    "# Train the Classifier/fitting the model\n",
    "svc.fit(X_train,y_train)\n",
    "\n",
    "# predict the response\n",
    "y_pred_svc = svc.predict(X_test)\n",
    "acc_svc = round(svc.score(X_test,y_test) * 100, 2)\n",
    "\n",
    "from sklearn.metrics import accuracy_score\n",
    "\n",
    "# evaluate accuracy\n",
    "print(\"Support Vector Classifier\")\n",
    "print (\"Training Accuracy: {} %\".format(svc.score(X_train,y_train)*100))\n",
    "print (\"Testing Accuracy: {} %\".format(acc_svc))\n",
    "print(\"SVC Accuracy: {} %\".format(metrics.accuracy_score(y_test, y_pred_svc)*100))\n"
   ]
  },
  {
   "cell_type": "code",
   "execution_count": 149,
   "metadata": {},
   "outputs": [
    {
     "name": "stdout",
     "output_type": "stream",
     "text": [
      "Recall score :  0.905005591893449\n",
      "Precision score :  0.9057527317915972\n",
      "F1 score :  0.9046073642181792\n"
     ]
    }
   ],
   "source": [
    "print(\"Recall score : \", recall_score(y_test, y_pred_svc , average='weighted'))\n",
    "print(\"Precision score : \",precision_score(y_test, y_pred_svc , average='weighted'))\n",
    "print(\"F1 score : \",f1_score(y_test, y_pred_svc , average='weighted'))"
   ]
  },
  {
   "cell_type": "code",
   "execution_count": 150,
   "metadata": {},
   "outputs": [
    {
     "name": "stdout",
     "output_type": "stream",
     "text": [
      "[[11251  1827]\n",
      " [  976 15453]]\n",
      "Accuracy : 0.905005591893449\n"
     ]
    }
   ],
   "source": [
    "#Creating a confusion matrix and printing the accuracy score \n",
    "cm = confusion_matrix(y_test, y_pred_svc)\n",
    "print(cm)\n",
    "print('Accuracy : {}'.format(accuracy_score(y_test, y_pred_svc)))"
   ]
  },
  {
   "cell_type": "markdown",
   "metadata": {},
   "source": [
    "Reducing the overfitting using Cross Validation for Decision Tree, Random Forest, GaussianNB and Support Vector Classifier."
   ]
  },
  {
   "cell_type": "code",
   "execution_count": 109,
   "metadata": {},
   "outputs": [
    {
     "name": "stdout",
     "output_type": "stream",
     "text": [
      "('DT', 89.21)\n",
      "('RF', 91.83)\n",
      "('GNB', 90.15)\n",
      "('SVC', 90.73)\n"
     ]
    }
   ],
   "source": [
    "# Import Cross Validation \n",
    "from sklearn.model_selection import cross_val_score\n",
    "\n",
    "from sklearn.model_selection import KFold\n",
    "kf = KFold(n_splits=5, random_state=42, shuffle=True)\n",
    "kf.get_n_splits(X)\n",
    "\n",
    "# creating list of tuple wth model and its name  \n",
    "models = []\n",
    "models.append(('DT',DecisionTreeClassifier()))\n",
    "models.append(('RF',RandomForestClassifier()))\n",
    "models.append(('GNB',GaussianNB()))\n",
    "models.append(('SVC',LinearSVC()))\n",
    "\n",
    "acc=[]  # All Algorithm/model accuracies\n",
    "names=[] # All model name\n",
    "\n",
    "for name, model in models:\n",
    "    acc_of_model = cross_val_score(model, X_train, y_train, cv=kf, scoring='accuracy') # kFolds =5 without shuffling\n",
    "    acc.append(acc_of_model) # appending Accuray of different model to acc List\n",
    "    names.append(name)# appending name of models\n",
    "    Acc =name,round(acc_of_model.mean()*100,2) # printing Output \n",
    "    print(Acc)"
   ]
  },
  {
   "cell_type": "markdown",
   "metadata": {},
   "source": [
    "Among all the 4 algorithms **Random Forest Classifier** works better than others. Thus we will use this algorithm further. "
   ]
  },
  {
   "cell_type": "markdown",
   "metadata": {},
   "source": [
    "Now, according to problem statement we need to put those customers in **'bucket 0'** whose probability of booking within 7 days of signing up is less than 20% and others in the **'bucket 1'**."
   ]
  },
  {
   "cell_type": "markdown",
   "metadata": {},
   "source": [
    "We will keep threshold as 0.2 and classify accordingly."
   ]
  },
  {
   "cell_type": "code",
   "execution_count": 110,
   "metadata": {},
   "outputs": [],
   "source": [
    "prob_preds=RF.predict_proba(X)\n",
    "threshold=0.2\n",
    "y_pred=[1 if prob_preds[i][1]>=threshold else 0 for i in range(len(prob_preds))]\n"
   ]
  },
  {
   "cell_type": "code",
   "execution_count": 111,
   "metadata": {},
   "outputs": [],
   "source": [
    "bucket=pd.DataFrame(data['cust_id'])\n",
    "bucket['y_pred']=y_pred"
   ]
  },
  {
   "cell_type": "code",
   "execution_count": 113,
   "metadata": {},
   "outputs": [
    {
     "data": {
      "text/html": [
       "<div>\n",
       "<style scoped>\n",
       "    .dataframe tbody tr th:only-of-type {\n",
       "        vertical-align: middle;\n",
       "    }\n",
       "\n",
       "    .dataframe tbody tr th {\n",
       "        vertical-align: top;\n",
       "    }\n",
       "\n",
       "    .dataframe thead th {\n",
       "        text-align: right;\n",
       "    }\n",
       "</style>\n",
       "<table border=\"1\" class=\"dataframe\">\n",
       "  <thead>\n",
       "    <tr style=\"text-align: right;\">\n",
       "      <th></th>\n",
       "      <th>cust_id</th>\n",
       "      <th>y_pred</th>\n",
       "    </tr>\n",
       "  </thead>\n",
       "  <tbody>\n",
       "    <tr>\n",
       "      <th>0</th>\n",
       "      <td>5015431352112</td>\n",
       "      <td>0</td>\n",
       "    </tr>\n",
       "    <tr>\n",
       "      <th>1</th>\n",
       "      <td>5015431352115</td>\n",
       "      <td>0</td>\n",
       "    </tr>\n",
       "    <tr>\n",
       "      <th>2</th>\n",
       "      <td>5015431352121</td>\n",
       "      <td>0</td>\n",
       "    </tr>\n",
       "    <tr>\n",
       "      <th>3</th>\n",
       "      <td>5015431352122</td>\n",
       "      <td>0</td>\n",
       "    </tr>\n",
       "    <tr>\n",
       "      <th>4</th>\n",
       "      <td>5015431352123</td>\n",
       "      <td>0</td>\n",
       "    </tr>\n",
       "    <tr>\n",
       "      <th>5</th>\n",
       "      <td>5015431352125</td>\n",
       "      <td>0</td>\n",
       "    </tr>\n",
       "    <tr>\n",
       "      <th>6</th>\n",
       "      <td>5015431352130</td>\n",
       "      <td>0</td>\n",
       "    </tr>\n",
       "    <tr>\n",
       "      <th>7</th>\n",
       "      <td>5015431352131</td>\n",
       "      <td>0</td>\n",
       "    </tr>\n",
       "    <tr>\n",
       "      <th>8</th>\n",
       "      <td>5015431352132</td>\n",
       "      <td>0</td>\n",
       "    </tr>\n",
       "    <tr>\n",
       "      <th>9</th>\n",
       "      <td>5015431352133</td>\n",
       "      <td>0</td>\n",
       "    </tr>\n",
       "  </tbody>\n",
       "</table>\n",
       "</div>"
      ],
      "text/plain": [
       "         cust_id  y_pred\n",
       "0  5015431352112       0\n",
       "1  5015431352115       0\n",
       "2  5015431352121       0\n",
       "3  5015431352122       0\n",
       "4  5015431352123       0\n",
       "5  5015431352125       0\n",
       "6  5015431352130       0\n",
       "7  5015431352131       0\n",
       "8  5015431352132       0\n",
       "9  5015431352133       0"
      ]
     },
     "execution_count": 113,
     "metadata": {},
     "output_type": "execute_result"
    }
   ],
   "source": [
    "bucket.head(10)"
   ]
  },
  {
   "cell_type": "code",
   "execution_count": 130,
   "metadata": {},
   "outputs": [],
   "source": [
    "index_0=np.where(bucket['y_pred']==0)"
   ]
  },
  {
   "cell_type": "code",
   "execution_count": 135,
   "metadata": {},
   "outputs": [],
   "source": [
    "bucket_0=bucket.iloc[index_0]"
   ]
  },
  {
   "cell_type": "code",
   "execution_count": 136,
   "metadata": {},
   "outputs": [
    {
     "data": {
      "text/html": [
       "<div>\n",
       "<style scoped>\n",
       "    .dataframe tbody tr th:only-of-type {\n",
       "        vertical-align: middle;\n",
       "    }\n",
       "\n",
       "    .dataframe tbody tr th {\n",
       "        vertical-align: top;\n",
       "    }\n",
       "\n",
       "    .dataframe thead th {\n",
       "        text-align: right;\n",
       "    }\n",
       "</style>\n",
       "<table border=\"1\" class=\"dataframe\">\n",
       "  <thead>\n",
       "    <tr style=\"text-align: right;\">\n",
       "      <th></th>\n",
       "      <th>cust_id</th>\n",
       "      <th>y_pred</th>\n",
       "    </tr>\n",
       "  </thead>\n",
       "  <tbody>\n",
       "    <tr>\n",
       "      <th>0</th>\n",
       "      <td>5015431352112</td>\n",
       "      <td>0</td>\n",
       "    </tr>\n",
       "    <tr>\n",
       "      <th>1</th>\n",
       "      <td>5015431352115</td>\n",
       "      <td>0</td>\n",
       "    </tr>\n",
       "    <tr>\n",
       "      <th>2</th>\n",
       "      <td>5015431352121</td>\n",
       "      <td>0</td>\n",
       "    </tr>\n",
       "    <tr>\n",
       "      <th>3</th>\n",
       "      <td>5015431352122</td>\n",
       "      <td>0</td>\n",
       "    </tr>\n",
       "    <tr>\n",
       "      <th>4</th>\n",
       "      <td>5015431352123</td>\n",
       "      <td>0</td>\n",
       "    </tr>\n",
       "    <tr>\n",
       "      <th>...</th>\n",
       "      <td>...</td>\n",
       "      <td>...</td>\n",
       "    </tr>\n",
       "    <tr>\n",
       "      <th>98349</th>\n",
       "      <td>5015433432042</td>\n",
       "      <td>0</td>\n",
       "    </tr>\n",
       "    <tr>\n",
       "      <th>98350</th>\n",
       "      <td>5015433432045</td>\n",
       "      <td>0</td>\n",
       "    </tr>\n",
       "    <tr>\n",
       "      <th>98351</th>\n",
       "      <td>5015433432051</td>\n",
       "      <td>0</td>\n",
       "    </tr>\n",
       "    <tr>\n",
       "      <th>98352</th>\n",
       "      <td>5015433432053</td>\n",
       "      <td>0</td>\n",
       "    </tr>\n",
       "    <tr>\n",
       "      <th>98353</th>\n",
       "      <td>5015433432054</td>\n",
       "      <td>0</td>\n",
       "    </tr>\n",
       "  </tbody>\n",
       "</table>\n",
       "<p>98207 rows × 2 columns</p>\n",
       "</div>"
      ],
      "text/plain": [
       "             cust_id  y_pred\n",
       "0      5015431352112       0\n",
       "1      5015431352115       0\n",
       "2      5015431352121       0\n",
       "3      5015431352122       0\n",
       "4      5015431352123       0\n",
       "...              ...     ...\n",
       "98349  5015433432042       0\n",
       "98350  5015433432045       0\n",
       "98351  5015433432051       0\n",
       "98352  5015433432053       0\n",
       "98353  5015433432054       0\n",
       "\n",
       "[98207 rows x 2 columns]"
      ]
     },
     "execution_count": 136,
     "metadata": {},
     "output_type": "execute_result"
    }
   ],
   "source": [
    "bucket_0"
   ]
  },
  {
   "cell_type": "code",
   "execution_count": 137,
   "metadata": {},
   "outputs": [
    {
     "data": {
      "text/html": [
       "<div>\n",
       "<style scoped>\n",
       "    .dataframe tbody tr th:only-of-type {\n",
       "        vertical-align: middle;\n",
       "    }\n",
       "\n",
       "    .dataframe tbody tr th {\n",
       "        vertical-align: top;\n",
       "    }\n",
       "\n",
       "    .dataframe thead th {\n",
       "        text-align: right;\n",
       "    }\n",
       "</style>\n",
       "<table border=\"1\" class=\"dataframe\">\n",
       "  <thead>\n",
       "    <tr style=\"text-align: right;\">\n",
       "      <th></th>\n",
       "      <th>cust_id</th>\n",
       "      <th>y_pred</th>\n",
       "    </tr>\n",
       "  </thead>\n",
       "  <tbody>\n",
       "    <tr>\n",
       "      <th>0</th>\n",
       "      <td>5015431352112</td>\n",
       "      <td>0</td>\n",
       "    </tr>\n",
       "    <tr>\n",
       "      <th>1</th>\n",
       "      <td>5015431352115</td>\n",
       "      <td>0</td>\n",
       "    </tr>\n",
       "    <tr>\n",
       "      <th>2</th>\n",
       "      <td>5015431352121</td>\n",
       "      <td>0</td>\n",
       "    </tr>\n",
       "    <tr>\n",
       "      <th>3</th>\n",
       "      <td>5015431352122</td>\n",
       "      <td>0</td>\n",
       "    </tr>\n",
       "    <tr>\n",
       "      <th>4</th>\n",
       "      <td>5015431352123</td>\n",
       "      <td>0</td>\n",
       "    </tr>\n",
       "    <tr>\n",
       "      <th>...</th>\n",
       "      <td>...</td>\n",
       "      <td>...</td>\n",
       "    </tr>\n",
       "    <tr>\n",
       "      <th>98202</th>\n",
       "      <td>5015433432042</td>\n",
       "      <td>0</td>\n",
       "    </tr>\n",
       "    <tr>\n",
       "      <th>98203</th>\n",
       "      <td>5015433432045</td>\n",
       "      <td>0</td>\n",
       "    </tr>\n",
       "    <tr>\n",
       "      <th>98204</th>\n",
       "      <td>5015433432051</td>\n",
       "      <td>0</td>\n",
       "    </tr>\n",
       "    <tr>\n",
       "      <th>98205</th>\n",
       "      <td>5015433432053</td>\n",
       "      <td>0</td>\n",
       "    </tr>\n",
       "    <tr>\n",
       "      <th>98206</th>\n",
       "      <td>5015433432054</td>\n",
       "      <td>0</td>\n",
       "    </tr>\n",
       "  </tbody>\n",
       "</table>\n",
       "<p>98207 rows × 2 columns</p>\n",
       "</div>"
      ],
      "text/plain": [
       "             cust_id  y_pred\n",
       "0      5015431352112       0\n",
       "1      5015431352115       0\n",
       "2      5015431352121       0\n",
       "3      5015431352122       0\n",
       "4      5015431352123       0\n",
       "...              ...     ...\n",
       "98202  5015433432042       0\n",
       "98203  5015433432045       0\n",
       "98204  5015433432051       0\n",
       "98205  5015433432053       0\n",
       "98206  5015433432054       0\n",
       "\n",
       "[98207 rows x 2 columns]"
      ]
     },
     "execution_count": 137,
     "metadata": {},
     "output_type": "execute_result"
    }
   ],
   "source": [
    "bucket_0.reset_index(drop=True)"
   ]
  },
  {
   "cell_type": "code",
   "execution_count": 138,
   "metadata": {},
   "outputs": [
    {
     "data": {
      "text/plain": [
       "(98207, 2)"
      ]
     },
     "execution_count": 138,
     "metadata": {},
     "output_type": "execute_result"
    }
   ],
   "source": [
    "bucket_0.shape"
   ]
  },
  {
   "cell_type": "code",
   "execution_count": 139,
   "metadata": {},
   "outputs": [],
   "source": [
    "index_1=np.where(bucket['y_pred']==1)"
   ]
  },
  {
   "cell_type": "code",
   "execution_count": 140,
   "metadata": {},
   "outputs": [],
   "source": [
    "bucket_1=bucket.iloc[index_1]"
   ]
  },
  {
   "cell_type": "code",
   "execution_count": 141,
   "metadata": {},
   "outputs": [
    {
     "data": {
      "text/html": [
       "<div>\n",
       "<style scoped>\n",
       "    .dataframe tbody tr th:only-of-type {\n",
       "        vertical-align: middle;\n",
       "    }\n",
       "\n",
       "    .dataframe tbody tr th {\n",
       "        vertical-align: top;\n",
       "    }\n",
       "\n",
       "    .dataframe thead th {\n",
       "        text-align: right;\n",
       "    }\n",
       "</style>\n",
       "<table border=\"1\" class=\"dataframe\">\n",
       "  <thead>\n",
       "    <tr style=\"text-align: right;\">\n",
       "      <th></th>\n",
       "      <th>cust_id</th>\n",
       "      <th>y_pred</th>\n",
       "    </tr>\n",
       "  </thead>\n",
       "  <tbody>\n",
       "    <tr>\n",
       "      <th>217</th>\n",
       "      <td>5015431353414</td>\n",
       "      <td>1</td>\n",
       "    </tr>\n",
       "    <tr>\n",
       "      <th>342</th>\n",
       "      <td>5015431354411</td>\n",
       "      <td>1</td>\n",
       "    </tr>\n",
       "    <tr>\n",
       "      <th>499</th>\n",
       "      <td>5015431355513</td>\n",
       "      <td>1</td>\n",
       "    </tr>\n",
       "    <tr>\n",
       "      <th>844</th>\n",
       "      <td>5015431402231</td>\n",
       "      <td>1</td>\n",
       "    </tr>\n",
       "    <tr>\n",
       "      <th>1159</th>\n",
       "      <td>5015431404401</td>\n",
       "      <td>1</td>\n",
       "    </tr>\n",
       "    <tr>\n",
       "      <th>...</th>\n",
       "      <td>...</td>\n",
       "      <td>...</td>\n",
       "    </tr>\n",
       "    <tr>\n",
       "      <th>60490</th>\n",
       "      <td>5015433421140</td>\n",
       "      <td>1</td>\n",
       "    </tr>\n",
       "    <tr>\n",
       "      <th>60545</th>\n",
       "      <td>5015433421400</td>\n",
       "      <td>1</td>\n",
       "    </tr>\n",
       "    <tr>\n",
       "      <th>60703</th>\n",
       "      <td>5015433423004</td>\n",
       "      <td>1</td>\n",
       "    </tr>\n",
       "    <tr>\n",
       "      <th>61050</th>\n",
       "      <td>5015433425524</td>\n",
       "      <td>1</td>\n",
       "    </tr>\n",
       "    <tr>\n",
       "      <th>61088</th>\n",
       "      <td>5015433430105</td>\n",
       "      <td>1</td>\n",
       "    </tr>\n",
       "  </tbody>\n",
       "</table>\n",
       "<p>147 rows × 2 columns</p>\n",
       "</div>"
      ],
      "text/plain": [
       "             cust_id  y_pred\n",
       "217    5015431353414       1\n",
       "342    5015431354411       1\n",
       "499    5015431355513       1\n",
       "844    5015431402231       1\n",
       "1159   5015431404401       1\n",
       "...              ...     ...\n",
       "60490  5015433421140       1\n",
       "60545  5015433421400       1\n",
       "60703  5015433423004       1\n",
       "61050  5015433425524       1\n",
       "61088  5015433430105       1\n",
       "\n",
       "[147 rows x 2 columns]"
      ]
     },
     "execution_count": 141,
     "metadata": {},
     "output_type": "execute_result"
    }
   ],
   "source": [
    "bucket_1"
   ]
  },
  {
   "cell_type": "code",
   "execution_count": 142,
   "metadata": {},
   "outputs": [
    {
     "data": {
      "text/html": [
       "<div>\n",
       "<style scoped>\n",
       "    .dataframe tbody tr th:only-of-type {\n",
       "        vertical-align: middle;\n",
       "    }\n",
       "\n",
       "    .dataframe tbody tr th {\n",
       "        vertical-align: top;\n",
       "    }\n",
       "\n",
       "    .dataframe thead th {\n",
       "        text-align: right;\n",
       "    }\n",
       "</style>\n",
       "<table border=\"1\" class=\"dataframe\">\n",
       "  <thead>\n",
       "    <tr style=\"text-align: right;\">\n",
       "      <th></th>\n",
       "      <th>cust_id</th>\n",
       "      <th>y_pred</th>\n",
       "    </tr>\n",
       "  </thead>\n",
       "  <tbody>\n",
       "    <tr>\n",
       "      <th>0</th>\n",
       "      <td>5015431353414</td>\n",
       "      <td>1</td>\n",
       "    </tr>\n",
       "    <tr>\n",
       "      <th>1</th>\n",
       "      <td>5015431354411</td>\n",
       "      <td>1</td>\n",
       "    </tr>\n",
       "    <tr>\n",
       "      <th>2</th>\n",
       "      <td>5015431355513</td>\n",
       "      <td>1</td>\n",
       "    </tr>\n",
       "    <tr>\n",
       "      <th>3</th>\n",
       "      <td>5015431402231</td>\n",
       "      <td>1</td>\n",
       "    </tr>\n",
       "    <tr>\n",
       "      <th>4</th>\n",
       "      <td>5015431404401</td>\n",
       "      <td>1</td>\n",
       "    </tr>\n",
       "    <tr>\n",
       "      <th>...</th>\n",
       "      <td>...</td>\n",
       "      <td>...</td>\n",
       "    </tr>\n",
       "    <tr>\n",
       "      <th>142</th>\n",
       "      <td>5015433421140</td>\n",
       "      <td>1</td>\n",
       "    </tr>\n",
       "    <tr>\n",
       "      <th>143</th>\n",
       "      <td>5015433421400</td>\n",
       "      <td>1</td>\n",
       "    </tr>\n",
       "    <tr>\n",
       "      <th>144</th>\n",
       "      <td>5015433423004</td>\n",
       "      <td>1</td>\n",
       "    </tr>\n",
       "    <tr>\n",
       "      <th>145</th>\n",
       "      <td>5015433425524</td>\n",
       "      <td>1</td>\n",
       "    </tr>\n",
       "    <tr>\n",
       "      <th>146</th>\n",
       "      <td>5015433430105</td>\n",
       "      <td>1</td>\n",
       "    </tr>\n",
       "  </tbody>\n",
       "</table>\n",
       "<p>147 rows × 2 columns</p>\n",
       "</div>"
      ],
      "text/plain": [
       "           cust_id  y_pred\n",
       "0    5015431353414       1\n",
       "1    5015431354411       1\n",
       "2    5015431355513       1\n",
       "3    5015431402231       1\n",
       "4    5015431404401       1\n",
       "..             ...     ...\n",
       "142  5015433421140       1\n",
       "143  5015433421400       1\n",
       "144  5015433423004       1\n",
       "145  5015433425524       1\n",
       "146  5015433430105       1\n",
       "\n",
       "[147 rows x 2 columns]"
      ]
     },
     "execution_count": 142,
     "metadata": {},
     "output_type": "execute_result"
    }
   ],
   "source": [
    "bucket_1.reset_index(drop=True)"
   ]
  },
  {
   "cell_type": "code",
   "execution_count": 128,
   "metadata": {},
   "outputs": [
    {
     "data": {
      "text/plain": [
       "(147, 2)"
      ]
     },
     "execution_count": 128,
     "metadata": {},
     "output_type": "execute_result"
    }
   ],
   "source": [
    "bucket_1.shape"
   ]
  },
  {
   "cell_type": "markdown",
   "metadata": {},
   "source": [
    "### Conclusion"
   ]
  },
  {
   "cell_type": "markdown",
   "metadata": {},
   "source": [
    "For new customers we can easily predict whether the customer will book within 7 days of signup or not using Random Forrest model with an accuracy of 91.83%. "
   ]
  }
 ],
 "metadata": {
  "kernelspec": {
   "display_name": "Python 3",
   "language": "python",
   "name": "python3"
  },
  "language_info": {
   "codemirror_mode": {
    "name": "ipython",
    "version": 3
   },
   "file_extension": ".py",
   "mimetype": "text/x-python",
   "name": "python",
   "nbconvert_exporter": "python",
   "pygments_lexer": "ipython3",
   "version": "3.7.6"
  }
 },
 "nbformat": 4,
 "nbformat_minor": 4
}
